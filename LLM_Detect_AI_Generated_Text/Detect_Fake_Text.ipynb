{
  "cells": [
    {
      "cell_type": "markdown",
      "metadata": {
        "id": "view-in-github",
        "colab_type": "text"
      },
      "source": [
        "<a href=\"https://colab.research.google.com/github/vsingh9076/Kaggle/blob/main/LLM_Detect_AI_Generated_Text/Detect_Fake_Text.ipynb\" target=\"_parent\"><img src=\"https://colab.research.google.com/assets/colab-badge.svg\" alt=\"Open In Colab\"/></a>"
      ]
    },
    {
      "cell_type": "markdown",
      "id": "965ade8c",
      "metadata": {
        "papermill": {
          "duration": 0.017135,
          "end_time": "2023-11-17T02:50:57.930783",
          "exception": false,
          "start_time": "2023-11-17T02:50:57.913648",
          "status": "completed"
        },
        "tags": [],
        "id": "965ade8c"
      },
      "source": [
        "[link text](https://)# LLM - Detect AI Generated Text\n",
        "> Identify which essay was written by a large language model\n",
        "\n",
        "<img src=\"https://user-images.githubusercontent.com/36858976/279902422-b365f6ef-ef01-49ac-af7f-0bc2ca3ba835.png\">"
      ]
    },
    {
      "cell_type": "markdown",
      "id": "519c08cd",
      "metadata": {
        "papermill": {
          "duration": 0.016184,
          "end_time": "2023-11-17T02:50:57.963895",
          "exception": false,
          "start_time": "2023-11-17T02:50:57.947711",
          "status": "completed"
        },
        "tags": [],
        "id": "519c08cd"
      },
      "source": [
        "# 🎯 | Motivation\n",
        "\n",
        "* In this notebook, we will demonstrate the usage of the multi-backend capabilities of `KerasCore` and `KerasNLP` for the **Detecting Fake Text** task.\n",
        "* Thanks to `KerasCore`, soon to become `Keras 3.0`, which enables seamless execution of this notebook on `TensorFlow`, `Jax`, and `PyTorch` platforms with minimal adjustments required.\n",
        "* Moreover, this notebook supports both single/multi GPU and TPU training. As time progresses, larger datasets may become available, making TPUs invaluable for training substantial models on these extensive datasets.\n",
        "* Finally, I am very curious about the effectiveness of this competition, as a few months ago, `OpenAI` shut down their AI Text-Detection Tool due to inaccuracies ([ref](https://www.pcmag.com/news/openai-quietly-shuts-down-ai-text-detection-tool-over-inaccuracies)). So, I'm eager to see how well this competition will address the problem.\n",
        "<img src=\"https://i.ibb.co/6Y2Vtgr/openAI.jpg\" alt=\"openAI\" border=\"0\">"
      ]
    },
    {
      "cell_type": "markdown",
      "id": "f3c350bb",
      "metadata": {
        "papermill": {
          "duration": 0.016162,
          "end_time": "2023-11-17T02:50:57.996342",
          "exception": false,
          "start_time": "2023-11-17T02:50:57.980180",
          "status": "completed"
        },
        "tags": [],
        "id": "f3c350bb"
      },
      "source": [
        "# 📓 | Notebooks\n",
        "\n",
        "* Train: [Detect Fake Text: KerasNLP [TF/Torch/JAX][Train]](https://www.kaggle.com/code/awsaf49/detect-fake-text-kerasnlp-tf-torch-jax-train)\n",
        "* Infer: [Detect Fake Text: KerasNLP [TF/Torch/JAX][Infer]](https://www.kaggle.com/code/awsaf49/detect-fake-text-kerasnlp-tf-torch-jax-infer)"
      ]
    },
    {
      "cell_type": "markdown",
      "id": "b098e86b",
      "metadata": {
        "papermill": {
          "duration": 0.017175,
          "end_time": "2023-11-17T02:50:58.031078",
          "exception": false,
          "start_time": "2023-11-17T02:50:58.013903",
          "status": "completed"
        },
        "tags": [],
        "id": "b098e86b"
      },
      "source": [
        "# 🛠 | Install Libraries"
      ]
    },
    {
      "cell_type": "code",
      "execution_count": null,
      "id": "625e068d",
      "metadata": {
        "_cell_guid": "b1076dfc-b9ad-4769-8c92-a6c4dae69d19",
        "_uuid": "8f2839f25d086af736a60e9eeb907d3b93b6e0e5",
        "execution": {
          "iopub.execute_input": "2023-11-17T02:50:58.066686Z",
          "iopub.status.busy": "2023-11-17T02:50:58.066307Z",
          "iopub.status.idle": "2023-11-17T02:52:03.442415Z",
          "shell.execute_reply": "2023-11-17T02:52:03.441404Z"
        },
        "papermill": {
          "duration": 65.396742,
          "end_time": "2023-11-17T02:52:03.444927",
          "exception": false,
          "start_time": "2023-11-17T02:50:58.048185",
          "status": "completed"
        },
        "tags": [],
        "colab": {
          "base_uri": "https://localhost:8080/"
        },
        "id": "625e068d",
        "outputId": "94dffcc2-e851-458c-c1fd-b8b4f5db715b"
      },
      "outputs": [
        {
          "output_type": "stream",
          "name": "stdout",
          "text": [
            "\u001b[2K     \u001b[90m━━━━━━━━━━━━━━━━━━━━━━━━━━━━━━━━━━━━━━━━\u001b[0m \u001b[32m950.8/950.8 kB\u001b[0m \u001b[31m17.7 MB/s\u001b[0m eta \u001b[36m0:00:00\u001b[0m\n",
            "\u001b[2K     \u001b[90m━━━━━━━━━━━━━━━━━━━━━━━━━━━━━━━━━━━━━━━━\u001b[0m \u001b[32m584.5/584.5 kB\u001b[0m \u001b[31m3.9 MB/s\u001b[0m eta \u001b[36m0:00:00\u001b[0m\n",
            "\u001b[?25h"
          ]
        }
      ],
      "source": [
        "!pip install -q keras-core --upgrade\n",
        "!pip install -q keras-nlp --upgrade\n",
        "!pip install --upgrade -q wandb git+https://github.com/soumik12345/wandb-addons"
      ]
    },
    {
      "cell_type": "markdown",
      "id": "e0ee728b",
      "metadata": {
        "papermill": {
          "duration": 0.016051,
          "end_time": "2023-11-17T02:52:03.477738",
          "exception": false,
          "start_time": "2023-11-17T02:52:03.461687",
          "status": "completed"
        },
        "tags": [],
        "id": "e0ee728b"
      },
      "source": [
        "# 📚 | Import Libraries"
      ]
    },
    {
      "cell_type": "code",
      "execution_count": null,
      "id": "55287bf1",
      "metadata": {
        "_kg_hide-output": true,
        "execution": {
          "iopub.execute_input": "2023-11-17T02:52:03.511856Z",
          "iopub.status.busy": "2023-11-17T02:52:03.511548Z",
          "iopub.status.idle": "2023-11-17T02:52:30.907901Z",
          "shell.execute_reply": "2023-11-17T02:52:30.906867Z"
        },
        "papermill": {
          "duration": 27.415999,
          "end_time": "2023-11-17T02:52:30.909923",
          "exception": false,
          "start_time": "2023-11-17T02:52:03.493924",
          "status": "completed"
        },
        "tags": [],
        "id": "55287bf1"
      },
      "outputs": [],
      "source": [
        "import os\n",
        "os.environ[\"KERAS_BACKEND\"] = \"torch\"  # \"jax\" or \"tensorflow\" or \"torch\"\n",
        "# os.environ[\"WANDB_SILENT\"] = \"false\" # for wandb\n",
        "\n",
        "import keras_nlp\n",
        "import keras_core as keras\n",
        "import keras_core.backend as K\n",
        "\n",
        "\n",
        "import torch\n",
        "# import jax\n",
        "import tensorflow as tf\n",
        "# from tensorflow import keras\n",
        "# import tensorflow.keras.backend as K\n",
        "\n",
        "import numpy as np\n",
        "import pandas as pd\n",
        "\n",
        "import matplotlib.pyplot as plt\n",
        "import matplotlib as mpl\n",
        "\n",
        "cmap = mpl.cm.get_cmap('coolwarm')"
      ]
    },
    {
      "cell_type": "markdown",
      "id": "94c54f66",
      "metadata": {
        "papermill": {
          "duration": 0.016819,
          "end_time": "2023-11-17T02:52:30.944500",
          "exception": false,
          "start_time": "2023-11-17T02:52:30.927681",
          "status": "completed"
        },
        "tags": [],
        "id": "94c54f66"
      },
      "source": [
        "## Library Version"
      ]
    },
    {
      "cell_type": "code",
      "execution_count": null,
      "id": "d54da417",
      "metadata": {
        "_kg_hide-input": true,
        "execution": {
          "iopub.execute_input": "2023-11-17T02:52:30.980691Z",
          "iopub.status.busy": "2023-11-17T02:52:30.980088Z",
          "iopub.status.idle": "2023-11-17T02:52:30.985764Z",
          "shell.execute_reply": "2023-11-17T02:52:30.984785Z"
        },
        "papermill": {
          "duration": 0.026686,
          "end_time": "2023-11-17T02:52:30.988184",
          "exception": false,
          "start_time": "2023-11-17T02:52:30.961498",
          "status": "completed"
        },
        "tags": [],
        "id": "d54da417"
      },
      "outputs": [],
      "source": [
        "print(\"TensorFlow:\", tf.__version__)\n",
        "# print(\"JAX:\", jax.__version__)\n",
        "print(\"Keras:\", keras.__version__)\n",
        "print(\"KerasNLP:\", keras_nlp.__version__)"
      ]
    },
    {
      "cell_type": "markdown",
      "id": "d049a0df",
      "metadata": {
        "papermill": {
          "duration": 0.018648,
          "end_time": "2023-11-17T02:52:31.025499",
          "exception": false,
          "start_time": "2023-11-17T02:52:31.006851",
          "status": "completed"
        },
        "tags": [],
        "id": "d049a0df"
      },
      "source": [
        "# ⚙️ | Configuration"
      ]
    },
    {
      "cell_type": "code",
      "execution_count": null,
      "id": "4be183df",
      "metadata": {
        "_kg_hide-input": true,
        "execution": {
          "iopub.execute_input": "2023-11-17T02:52:31.118684Z",
          "iopub.status.busy": "2023-11-17T02:52:31.118290Z",
          "iopub.status.idle": "2023-11-17T02:52:31.126618Z",
          "shell.execute_reply": "2023-11-17T02:52:31.125674Z"
        },
        "papermill": {
          "duration": 0.084973,
          "end_time": "2023-11-17T02:52:31.128794",
          "exception": false,
          "start_time": "2023-11-17T02:52:31.043821",
          "status": "completed"
        },
        "tags": [],
        "id": "4be183df"
      },
      "outputs": [],
      "source": [
        "class CFG:\n",
        "    verbose = 0  # Verbosity\n",
        "\n",
        "    wandb = True  # Weights & Biases logging\n",
        "    competition = 'llm-detect-ai-generated-text'  # Competition name\n",
        "    _wandb_kernel = 'awsaf49'  # WandB kernel\n",
        "    comment = 'DebertaV3-MaxSeq_200-ext_s-torch'  # Comment description\n",
        "\n",
        "    preset = \"deberta_v3_base_en\"  # Name of pretrained models\n",
        "    sequence_length = 200  # Input sequence length\n",
        "\n",
        "    device = 'TPU'  # Device\n",
        "\n",
        "    seed = 42  # Random seed\n",
        "\n",
        "    num_folds = 5  # Total folds\n",
        "    selected_folds = [0, 1, 2]  # Folds to train on\n",
        "\n",
        "    epochs = 3 # Training epochs\n",
        "    batch_size = 3  # Batch size\n",
        "    drop_remainder = True  # Drop incomplete batches\n",
        "    cache = True # Caches data after one iteration, use only with `TPU` to avoid OOM\n",
        "\n",
        "    scheduler = 'cosine'  # Learning rate scheduler\n",
        "\n",
        "    class_names = [\"real\", \"fake\"]  # Class names [A, B, C, D, E]\n",
        "    num_classes = len(class_names)  # Number of classes\n",
        "    class_labels = list(range(num_classes))  # Class labels [0, 1, 2, 3, 4]\n",
        "    label2name = dict(zip(class_labels, class_names))  # Label to class name mapping\n",
        "    name2label = {v: k for k, v in label2name.items()}  # Class name to label mapping"
      ]
    },
    {
      "cell_type": "markdown",
      "id": "2261b645",
      "metadata": {
        "papermill": {
          "duration": 0.017469,
          "end_time": "2023-11-17T02:52:31.164708",
          "exception": false,
          "start_time": "2023-11-17T02:52:31.147239",
          "status": "completed"
        },
        "tags": [],
        "id": "2261b645"
      },
      "source": [
        "# ♻️ | Reproducibility\n",
        "Sets value for random seed to produce similar result in each run."
      ]
    },
    {
      "cell_type": "code",
      "execution_count": null,
      "id": "9d8648ce",
      "metadata": {
        "execution": {
          "iopub.execute_input": "2023-11-17T02:52:31.202449Z",
          "iopub.status.busy": "2023-11-17T02:52:31.201801Z",
          "iopub.status.idle": "2023-11-17T02:52:31.214935Z",
          "shell.execute_reply": "2023-11-17T02:52:31.214155Z"
        },
        "papermill": {
          "duration": 0.034998,
          "end_time": "2023-11-17T02:52:31.217250",
          "exception": false,
          "start_time": "2023-11-17T02:52:31.182252",
          "status": "completed"
        },
        "tags": [],
        "id": "9d8648ce"
      },
      "outputs": [],
      "source": [
        "keras.utils.set_random_seed(CFG.seed)"
      ]
    },
    {
      "cell_type": "markdown",
      "id": "464c1736",
      "metadata": {
        "papermill": {
          "duration": 0.017456,
          "end_time": "2023-11-17T02:52:31.252730",
          "exception": false,
          "start_time": "2023-11-17T02:52:31.235274",
          "status": "completed"
        },
        "tags": [],
        "id": "464c1736"
      },
      "source": [
        "# 💾 | Hardware\n",
        "Following codes automatically detects hardware (TPU or GPU)."
      ]
    },
    {
      "cell_type": "code",
      "execution_count": null,
      "id": "8bf8a63e",
      "metadata": {
        "_kg_hide-input": true,
        "execution": {
          "iopub.execute_input": "2023-11-17T02:52:31.289486Z",
          "iopub.status.busy": "2023-11-17T02:52:31.288835Z",
          "iopub.status.idle": "2023-11-17T02:52:31.296439Z",
          "shell.execute_reply": "2023-11-17T02:52:31.295544Z"
        },
        "papermill": {
          "duration": 0.028211,
          "end_time": "2023-11-17T02:52:31.298403",
          "exception": false,
          "start_time": "2023-11-17T02:52:31.270192",
          "status": "completed"
        },
        "tags": [],
        "id": "8bf8a63e"
      },
      "outputs": [],
      "source": [
        "def get_device():\n",
        "    \"Detect and intializes GPU/TPU automatically\"\n",
        "    try:\n",
        "        # Connect to TPU\n",
        "        tpu = tf.distribute.cluster_resolver.TPUClusterResolver.connect()\n",
        "        # Set TPU strategy\n",
        "        strategy = tf.distribute.TPUStrategy(tpu)\n",
        "        print(f'> Running on TPU', tpu.master(), end=' | ')\n",
        "        print('Num of TPUs: ', strategy.num_replicas_in_sync)\n",
        "        device=CFG.device\n",
        "    except:\n",
        "        # If TPU is not available, detect GPUs\n",
        "        gpus = tf.config.list_logical_devices('GPU')\n",
        "        ngpu = len(gpus)\n",
        "         # Check number of GPUs\n",
        "        if ngpu:\n",
        "            # Set GPU strategy\n",
        "            strategy = tf.distribute.MirroredStrategy(gpus) # single-GPU or multi-GPU\n",
        "            # Print GPU details\n",
        "            print(\"> Running on GPU\", end=' | ')\n",
        "            print(\"Num of GPUs: \", ngpu)\n",
        "            device='GPU'\n",
        "        else:\n",
        "            # If no GPUs are available, use CPU\n",
        "            print(\"> Running on CPU\")\n",
        "            strategy = tf.distribute.get_strategy()\n",
        "            device='CPU'\n",
        "    return strategy, device"
      ]
    },
    {
      "cell_type": "code",
      "execution_count": null,
      "id": "8e3f9279",
      "metadata": {
        "execution": {
          "iopub.execute_input": "2023-11-17T02:52:31.335171Z",
          "iopub.status.busy": "2023-11-17T02:52:31.334520Z",
          "iopub.status.idle": "2023-11-17T02:52:41.422154Z",
          "shell.execute_reply": "2023-11-17T02:52:41.420927Z"
        },
        "papermill": {
          "duration": 10.108771,
          "end_time": "2023-11-17T02:52:41.424602",
          "exception": false,
          "start_time": "2023-11-17T02:52:31.315831",
          "status": "completed"
        },
        "tags": [],
        "id": "8e3f9279"
      },
      "outputs": [],
      "source": [
        "# Initialize GPU/TPU/TPU-VM\n",
        "strategy, CFG.device = get_device()\n",
        "CFG.replicas = strategy.num_replicas_in_sync"
      ]
    },
    {
      "cell_type": "markdown",
      "id": "514fda43",
      "metadata": {
        "papermill": {
          "duration": 0.019278,
          "end_time": "2023-11-17T02:52:41.463458",
          "exception": false,
          "start_time": "2023-11-17T02:52:41.444180",
          "status": "completed"
        },
        "tags": [],
        "id": "514fda43"
      },
      "source": [
        "# 📁 | Dataset Path"
      ]
    },
    {
      "cell_type": "code",
      "execution_count": null,
      "id": "ada9421f",
      "metadata": {
        "execution": {
          "iopub.execute_input": "2023-11-17T02:52:41.504063Z",
          "iopub.status.busy": "2023-11-17T02:52:41.503264Z",
          "iopub.status.idle": "2023-11-17T02:52:41.508119Z",
          "shell.execute_reply": "2023-11-17T02:52:41.507113Z"
        },
        "papermill": {
          "duration": 0.027916,
          "end_time": "2023-11-17T02:52:41.510443",
          "exception": false,
          "start_time": "2023-11-17T02:52:41.482527",
          "status": "completed"
        },
        "tags": [],
        "id": "ada9421f"
      },
      "outputs": [],
      "source": [
        "BASE_PATH = '/content/'"
      ]
    },
    {
      "cell_type": "markdown",
      "id": "21719af6",
      "metadata": {
        "papermill": {
          "duration": 0.017686,
          "end_time": "2023-11-17T02:52:41.547710",
          "exception": false,
          "start_time": "2023-11-17T02:52:41.530024",
          "status": "completed"
        },
        "tags": [],
        "id": "21719af6"
      },
      "source": [
        "# 📖 | Meta Data\n",
        "* `{test|train}_essays.csv`\n",
        "    * `id` - A unique identifier for each essay.\n",
        "    * `prompt_id` - Identifies the prompt the essay was written in response to.\n",
        "    * `text` - The essay text itself.\n",
        "    * `generated` - Whether the essay was written by a student (0) or generated by an LLM (1). This field is the target and is not present in test_essays.csv.\n",
        "* **sample_submission.csv** - is the valid sample submission."
      ]
    },
    {
      "cell_type": "markdown",
      "id": "22411069",
      "metadata": {
        "papermill": {
          "duration": 0.018099,
          "end_time": "2023-11-17T02:52:41.584108",
          "exception": false,
          "start_time": "2023-11-17T02:52:41.566009",
          "status": "completed"
        },
        "tags": [],
        "id": "22411069"
      },
      "source": [
        "## Train Data"
      ]
    },
    {
      "cell_type": "code",
      "execution_count": null,
      "id": "63a4211e",
      "metadata": {
        "_kg_hide-input": true,
        "execution": {
          "iopub.execute_input": "2023-11-17T02:52:41.624254Z",
          "iopub.status.busy": "2023-11-17T02:52:41.623552Z",
          "iopub.status.idle": "2023-11-17T02:52:42.105978Z",
          "shell.execute_reply": "2023-11-17T02:52:42.105017Z"
        },
        "papermill": {
          "duration": 0.505411,
          "end_time": "2023-11-17T02:52:42.108407",
          "exception": false,
          "start_time": "2023-11-17T02:52:41.602996",
          "status": "completed"
        },
        "tags": [],
        "id": "63a4211e"
      },
      "outputs": [],
      "source": [
        "df = pd.read_csv(f'{BASE_PATH}/train_essays.csv')  # Read CSV file into a DataFrame\n",
        "df['label'] = df.generated.copy()\n",
        "df['name'] = df.generated.map(CFG.label2name)  # Map answer labels using name-to-label mapping\n",
        "\n",
        "# Display information about the train data\n",
        "print(\"# Train Data: {:,}\".format(len(df)))\n",
        "print(\"# Sample:\")\n",
        "display(df.head(2))\n",
        "\n",
        "# Show distribution of answers using a bar plot\n",
        "plt.figure(figsize=(8, 4))\n",
        "df.name.value_counts().plot.bar(color=[cmap(0.0), cmap(0.25), cmap(0.65), cmap(0.9), cmap(1.0)])\n",
        "plt.xlabel(\"Class\")\n",
        "plt.ylabel(\"Count\")\n",
        "plt.title(\"Class distribution for Train Data\")\n",
        "plt.show()\n"
      ]
    },
    {
      "cell_type": "markdown",
      "id": "74eb2df2",
      "metadata": {
        "papermill": {
          "duration": 0.01813,
          "end_time": "2023-11-17T02:52:42.145676",
          "exception": false,
          "start_time": "2023-11-17T02:52:42.127546",
          "status": "completed"
        },
        "tags": [],
        "id": "74eb2df2"
      },
      "source": [
        "## External Datasets\n",
        "\n",
        "We'll be utilizing the following external datasets:\n",
        "\n",
        "* [Proper Train Dataset](https://www.kaggle.com/datasets/thedrcat/daigt-proper-train-dataset/) @thedrcat\n",
        "* [ArguGPT](https://www.kaggle.com/datasets/alejopaullier/argugpt) @alejopaullier\n"
      ]
    },
    {
      "cell_type": "code",
      "execution_count": null,
      "id": "94025934",
      "metadata": {
        "_kg_hide-input": true,
        "execution": {
          "iopub.execute_input": "2023-11-17T02:52:42.182072Z",
          "iopub.status.busy": "2023-11-17T02:52:42.181699Z",
          "iopub.status.idle": "2023-11-17T02:52:45.434232Z",
          "shell.execute_reply": "2023-11-17T02:52:45.433222Z"
        },
        "papermill": {
          "duration": 3.273348,
          "end_time": "2023-11-17T02:52:45.436656",
          "exception": false,
          "start_time": "2023-11-17T02:52:42.163308",
          "status": "completed"
        },
        "tags": [],
        "id": "94025934"
      },
      "outputs": [],
      "source": [
        "# Load external data\n",
        "ext_df1 = pd.read_csv('/content/train_drcat_01.csv')\n",
        "ext_df2 = pd.read_csv('/content/argugpt.csv')[['id','text','model']]\n",
        "\n",
        "ext_df2.rename(columns={'model':'source'}, inplace=True)\n",
        "ext_df2['label'] = 1\n",
        "\n",
        "ext_df = pd.concat([\n",
        "    ext_df1[ext_df1.source=='persuade_corpus'].sample(10000),\n",
        "    ext_df1[ext_df1.source!='persuade_corpus'],\n",
        "#     ext_df2,\n",
        "])\n",
        "\n",
        "# ext_real_df = ext_df[['id', 'text']].copy()\n",
        "# ext_real_df['label']  = 0\n",
        "\n",
        "# ext_fake_df = ext_df[['id', 'source_text']].copy()\n",
        "# ext_fake_df.rename(columns={\"source_text\":\"text\"}, inplace=True)\n",
        "# ext_fake_df['label']  = 1\n",
        "\n",
        "# ext_df = pd.concat([ext_real_df, ext_fake_df], axis=0)\n",
        "ext_df['name'] = ext_df.label.map(CFG.label2name)\n",
        "\n",
        "# Display information about the external data\n",
        "print(\"# External Data: {:,}\".format(len(ext_df)))\n",
        "print(\"# Sample:\")\n",
        "ext_df.head(2)\n",
        "\n",
        "# Show distribution of answers using a bar plot\n",
        "plt.figure(figsize=(8, 4))\n",
        "ext_df.name.value_counts().plot.bar(color=[cmap(0.0), cmap(0.65)])\n",
        "plt.xlabel(\"Class\")\n",
        "plt.ylabel(\"Count\")\n",
        "plt.title(\"Answer distribution for External Data\")\n",
        "plt.show()"
      ]
    },
    {
      "cell_type": "markdown",
      "id": "7edd6b3a",
      "metadata": {
        "papermill": {
          "duration": 0.018436,
          "end_time": "2023-11-17T02:52:45.474238",
          "exception": false,
          "start_time": "2023-11-17T02:52:45.455802",
          "status": "completed"
        },
        "tags": [],
        "id": "7edd6b3a"
      },
      "source": [
        "## Combine External and Train Data"
      ]
    },
    {
      "cell_type": "code",
      "execution_count": null,
      "id": "18e7e366",
      "metadata": {
        "execution": {
          "iopub.execute_input": "2023-11-17T02:52:45.514317Z",
          "iopub.status.busy": "2023-11-17T02:52:45.513932Z",
          "iopub.status.idle": "2023-11-17T02:52:45.534922Z",
          "shell.execute_reply": "2023-11-17T02:52:45.533924Z"
        },
        "papermill": {
          "duration": 0.044456,
          "end_time": "2023-11-17T02:52:45.537222",
          "exception": false,
          "start_time": "2023-11-17T02:52:45.492766",
          "status": "completed"
        },
        "tags": [],
        "id": "18e7e366"
      },
      "outputs": [],
      "source": [
        "df = ext_df.copy().reset_index(drop=True) # pd.concat([ext_df, df], axis=0)\n",
        "df.head()"
      ]
    },
    {
      "cell_type": "markdown",
      "id": "db508487",
      "metadata": {
        "papermill": {
          "duration": 0.019506,
          "end_time": "2023-11-17T02:52:45.576835",
          "exception": false,
          "start_time": "2023-11-17T02:52:45.557329",
          "status": "completed"
        },
        "tags": [],
        "id": "db508487"
      },
      "source": [
        "# 🔪 | Data Split\n",
        "\n",
        "In the code snippet provided below, we will divide the existing **train** data into folds using a stratification of `label` column."
      ]
    },
    {
      "cell_type": "code",
      "execution_count": null,
      "id": "4d2d0aae",
      "metadata": {
        "_kg_hide-input": true,
        "execution": {
          "iopub.execute_input": "2023-11-17T02:52:45.618983Z",
          "iopub.status.busy": "2023-11-17T02:52:45.618249Z",
          "iopub.status.idle": "2023-11-17T02:52:47.297231Z",
          "shell.execute_reply": "2023-11-17T02:52:47.296030Z"
        },
        "papermill": {
          "duration": 1.702934,
          "end_time": "2023-11-17T02:52:47.300652",
          "exception": false,
          "start_time": "2023-11-17T02:52:45.597718",
          "status": "completed"
        },
        "tags": [],
        "id": "4d2d0aae"
      },
      "outputs": [],
      "source": [
        "from sklearn.model_selection import StratifiedKFold  # Import package\n",
        "\n",
        "skf = StratifiedKFold(n_splits=CFG.num_folds, shuffle=True, random_state=CFG.seed)  # Initialize K-Fold\n",
        "\n",
        "df = df.reset_index(drop=True)  # Reset dataframe index\n",
        "\n",
        "df['stratify'] = df.label.astype(str)+df.source.astype(str)\n",
        "\n",
        "df[\"fold\"] = -1  # New 'fold' column\n",
        "\n",
        "# Assign folds using StratifiedKFold\n",
        "for fold, (train_idx, val_idx) in enumerate(skf.split(df, df['stratify'])):\n",
        "    df.loc[val_idx, 'fold'] = fold\n",
        "\n",
        "# Display label distribution for each fold\n",
        "df.groupby([\"fold\", \"name\", \"source\"]).size()"
      ]
    },
    {
      "cell_type": "markdown",
      "id": "15c77549",
      "metadata": {
        "papermill": {
          "duration": 0.019094,
          "end_time": "2023-11-17T02:52:47.340425",
          "exception": false,
          "start_time": "2023-11-17T02:52:47.321331",
          "status": "completed"
        },
        "tags": [],
        "id": "15c77549"
      },
      "source": [
        "# 🍽️ | Preprocessing\n",
        "\n",
        "**What it does:** The preprocessor takes input strings and transforms them into a dictionary (`token_ids`, `padding_mask`) containing preprocessed tensors. This process starts with tokenization, where input strings are converted into sequences of token IDs.\n",
        "\n",
        "**Why it's important:** Initially, raw text data is complex and challenging for modeling due to its high dimensionality. By converting text into a compact set of tokens, such as transforming `\"The quick brown fox\"` into `[\"the\", \"qu\", \"##ick\", \"br\", \"##own\", \"fox\"]`, we simplify the data. Many models rely on special tokens and additional tensors to understand input. These tokens help divide input and identify padding, among other tasks. Making all sequences the same length through padding boosts computational efficiency, making subsequent steps smoother.\n",
        "\n",
        "Explore the following pages to access the available preprocessing and tokenizer layers in **KerasNLP**:\n",
        "- [Preprocessing](https://keras.io/api/keras_nlp/preprocessing_layers/)\n",
        "- [Tokenizers](https://keras.io/api/keras_nlp/tokenizers/)"
      ]
    },
    {
      "cell_type": "code",
      "execution_count": null,
      "id": "328b1bbc",
      "metadata": {
        "execution": {
          "iopub.execute_input": "2023-11-17T02:52:47.381374Z",
          "iopub.status.busy": "2023-11-17T02:52:47.380979Z",
          "iopub.status.idle": "2023-11-17T02:52:48.276195Z",
          "shell.execute_reply": "2023-11-17T02:52:48.275266Z"
        },
        "papermill": {
          "duration": 0.918436,
          "end_time": "2023-11-17T02:52:48.278643",
          "exception": false,
          "start_time": "2023-11-17T02:52:47.360207",
          "status": "completed"
        },
        "tags": [],
        "id": "328b1bbc"
      },
      "outputs": [],
      "source": [
        "preprocessor = keras_nlp.models.DebertaV3Preprocessor.from_preset(\n",
        "    preset=CFG.preset, # Name of the model\n",
        "    sequence_length=CFG.sequence_length, # Max sequence length, will be padded if shorter\n",
        ")"
      ]
    },
    {
      "cell_type": "markdown",
      "id": "75d2c523",
      "metadata": {
        "papermill": {
          "duration": 0.019091,
          "end_time": "2023-11-17T02:52:48.317765",
          "exception": false,
          "start_time": "2023-11-17T02:52:48.298674",
          "status": "completed"
        },
        "tags": [],
        "id": "75d2c523"
      },
      "source": [
        "Now, let's examine what the output shape of the preprocessing layer looks like. The output shape of the layer can be represented as $(num\\_choices, sequence\\_length)$."
      ]
    },
    {
      "cell_type": "code",
      "execution_count": null,
      "id": "dc544a7d",
      "metadata": {
        "execution": {
          "iopub.execute_input": "2023-11-17T02:52:48.358825Z",
          "iopub.status.busy": "2023-11-17T02:52:48.357992Z",
          "iopub.status.idle": "2023-11-17T02:52:48.564916Z",
          "shell.execute_reply": "2023-11-17T02:52:48.564025Z"
        },
        "papermill": {
          "duration": 0.229772,
          "end_time": "2023-11-17T02:52:48.567274",
          "exception": false,
          "start_time": "2023-11-17T02:52:48.337502",
          "status": "completed"
        },
        "tags": [],
        "id": "dc544a7d"
      },
      "outputs": [],
      "source": [
        "inp = preprocessor(df.text.iloc[0])  # Process text for the first row\n",
        "\n",
        "# Display the shape of each processed output\n",
        "for k, v in inp.items():\n",
        "    print(k, \":\", v.shape)"
      ]
    },
    {
      "cell_type": "markdown",
      "id": "cc4dbdba",
      "metadata": {
        "papermill": {
          "duration": 0.019204,
          "end_time": "2023-11-17T02:52:48.606159",
          "exception": false,
          "start_time": "2023-11-17T02:52:48.586955",
          "status": "completed"
        },
        "tags": [],
        "id": "cc4dbdba"
      },
      "source": [
        "We'll use the `preprocessing_fn` function to transform each text option using the `dataset.map(preprocessing_fn)` method."
      ]
    },
    {
      "cell_type": "code",
      "execution_count": null,
      "id": "712f1566",
      "metadata": {
        "execution": {
          "iopub.execute_input": "2023-11-17T02:52:48.644945Z",
          "iopub.status.busy": "2023-11-17T02:52:48.644668Z",
          "iopub.status.idle": "2023-11-17T02:52:48.649460Z",
          "shell.execute_reply": "2023-11-17T02:52:48.648634Z"
        },
        "papermill": {
          "duration": 0.026266,
          "end_time": "2023-11-17T02:52:48.651448",
          "exception": false,
          "start_time": "2023-11-17T02:52:48.625182",
          "status": "completed"
        },
        "tags": [],
        "id": "712f1566"
      },
      "outputs": [],
      "source": [
        "def preprocess_fn(text, label=None):\n",
        "    text = preprocessor(text)  # Preprocess text\n",
        "    return (text, label) if label is not None else text  # Return processed text and label if available"
      ]
    },
    {
      "cell_type": "markdown",
      "id": "d64e76fb",
      "metadata": {
        "papermill": {
          "duration": 0.018796,
          "end_time": "2023-11-17T02:52:48.689007",
          "exception": false,
          "start_time": "2023-11-17T02:52:48.670211",
          "status": "completed"
        },
        "tags": [],
        "id": "d64e76fb"
      },
      "source": [
        "# 🍚 | DataLoader\n",
        "\n",
        "The code below sets up a robust data flow pipeline using `tf.data.Dataset` for data processing. Notable aspects of `tf.data` include its ability to simplify pipeline construction and represent components in sequences.\n",
        "\n",
        "To learn more about `tf.data`, refer to this [documentation](https://www.tensorflow.org/guide/data)."
      ]
    },
    {
      "cell_type": "code",
      "execution_count": null,
      "id": "7bfefd96",
      "metadata": {
        "_kg_hide-input": true,
        "execution": {
          "iopub.execute_input": "2023-11-17T02:52:48.730217Z",
          "iopub.status.busy": "2023-11-17T02:52:48.729672Z",
          "iopub.status.idle": "2023-11-17T02:52:48.738465Z",
          "shell.execute_reply": "2023-11-17T02:52:48.737443Z"
        },
        "papermill": {
          "duration": 0.032673,
          "end_time": "2023-11-17T02:52:48.740580",
          "exception": false,
          "start_time": "2023-11-17T02:52:48.707907",
          "status": "completed"
        },
        "tags": [],
        "id": "7bfefd96"
      },
      "outputs": [],
      "source": [
        "def build_dataset(texts, labels=None, batch_size=32,\n",
        "                  cache=False, drop_remainder=True,\n",
        "                  repeat=False, shuffle=1024):\n",
        "    AUTO = tf.data.AUTOTUNE  # AUTOTUNE option\n",
        "    slices = (texts,) if labels is None else (texts, labels)  # Create slices\n",
        "    ds = tf.data.Dataset.from_tensor_slices(slices)  # Create dataset from slices\n",
        "    ds = ds.cache() if cache else ds  # Cache dataset if enabled\n",
        "    ds = ds.map(preprocess_fn, num_parallel_calls=AUTO)  # Map preprocessing function\n",
        "    ds = ds.repeat() if repeat else ds  # Repeat dataset if enabled\n",
        "    opt = tf.data.Options()  # Create dataset options\n",
        "    if shuffle:\n",
        "        ds = ds.shuffle(shuffle, seed=CFG.seed)  # Shuffle dataset if enabled\n",
        "        opt.experimental_deterministic = False\n",
        "    ds = ds.with_options(opt)  # Set dataset options\n",
        "    ds = ds.batch(batch_size, drop_remainder=drop_remainder)  # Batch dataset\n",
        "    ds = ds.prefetch(AUTO)  # Prefetch next batch\n",
        "    return ds  # Return the built dataset"
      ]
    },
    {
      "cell_type": "markdown",
      "id": "90982c01",
      "metadata": {
        "papermill": {
          "duration": 0.019243,
          "end_time": "2023-11-17T02:52:48.779902",
          "exception": false,
          "start_time": "2023-11-17T02:52:48.760659",
          "status": "completed"
        },
        "tags": [],
        "id": "90982c01"
      },
      "source": [
        "## Fetch Train/Valid Dataset\n",
        "\n",
        "The function below generates the training and validation datasets for a given fold."
      ]
    },
    {
      "cell_type": "code",
      "execution_count": null,
      "id": "0274afe3",
      "metadata": {
        "_kg_hide-input": false,
        "execution": {
          "iopub.execute_input": "2023-11-17T02:52:48.821021Z",
          "iopub.status.busy": "2023-11-17T02:52:48.820626Z",
          "iopub.status.idle": "2023-11-17T02:52:48.828493Z",
          "shell.execute_reply": "2023-11-17T02:52:48.827621Z"
        },
        "papermill": {
          "duration": 0.030683,
          "end_time": "2023-11-17T02:52:48.830431",
          "exception": false,
          "start_time": "2023-11-17T02:52:48.799748",
          "status": "completed"
        },
        "tags": [],
        "id": "0274afe3"
      },
      "outputs": [],
      "source": [
        "def get_datasets(fold):\n",
        "    train_df = df[df.fold!=fold].sample(frac=1)  # Get training fold data\n",
        "\n",
        "    train_texts = train_df.text.tolist()  # Extract training texts\n",
        "    train_labels = train_df.label.tolist()  # Extract training labels\n",
        "\n",
        "    # Build training dataset\n",
        "    train_ds = build_dataset(train_texts, train_labels,\n",
        "                             batch_size=CFG.batch_size*CFG.replicas, cache=CFG.cache,\n",
        "                             shuffle=True, drop_remainder=True, repeat=True)\n",
        "\n",
        "    valid_df = df[df.fold==fold].sample(frac=1)  # Get validation fold data\n",
        "    valid_texts = valid_df.text.tolist()  # Extract validation texts\n",
        "    valid_labels = valid_df.label.tolist()  # Extract validation labels\n",
        "\n",
        "    # Build validation dataset\n",
        "    valid_ds = build_dataset(valid_texts, valid_labels,\n",
        "                             batch_size=min(CFG.batch_size*CFG.replicas, len(valid_df)), cache=CFG.cache,\n",
        "                             shuffle=False, drop_remainder=True, repeat=False)\n",
        "\n",
        "    return (train_ds, train_df), (valid_ds, valid_df)  # Return datasets and dataframes"
      ]
    },
    {
      "cell_type": "markdown",
      "id": "de80ec58",
      "metadata": {
        "papermill": {
          "duration": 0.019745,
          "end_time": "2023-11-17T02:52:48.871267",
          "exception": false,
          "start_time": "2023-11-17T02:52:48.851522",
          "status": "completed"
        },
        "tags": [],
        "id": "de80ec58"
      },
      "source": [
        "# 🪄 | Wandb\n",
        "<img src=\"https://camo.githubusercontent.com/dd842f7b0be57140e68b2ab9cb007992acd131c48284eaf6b1aca758bfea358b/68747470733a2f2f692e696d6775722e636f6d2f52557469567a482e706e67\" width=\"400\" alt=\"Weights & Biases\" />\n",
        "\n",
        "To monitor the training of my text-based model, I'll make use of **Weights & Biases**. Weights & Biases (W&B) is an MLOps platform that offers experiment tracking, dataset versioning, and model management functionalities, aiding in efficient model development."
      ]
    },
    {
      "cell_type": "code",
      "execution_count": null,
      "id": "96d5af4a",
      "metadata": {
        "execution": {
          "iopub.execute_input": "2023-11-17T02:52:48.912298Z",
          "iopub.status.busy": "2023-11-17T02:52:48.911878Z",
          "iopub.status.idle": "2023-11-17T02:52:51.143936Z",
          "shell.execute_reply": "2023-11-17T02:52:51.143106Z"
        },
        "papermill": {
          "duration": 2.255349,
          "end_time": "2023-11-17T02:52:51.146367",
          "exception": false,
          "start_time": "2023-11-17T02:52:48.891018",
          "status": "completed"
        },
        "tags": [],
        "id": "96d5af4a"
      },
      "outputs": [],
      "source": [
        "import wandb  # Import wandb library for experiment tracking\n",
        "import wandb_addons # Additional wandb utilities\n",
        "\n",
        "try:\n",
        "    from kaggle_secrets import UserSecretsClient  # Import UserSecretsClient\n",
        "    user_secrets = UserSecretsClient()  # Create secrets client instance\n",
        "    api_key = user_secrets.get_secret(\"WANDB\")  # Get API key from Kaggle secrets\n",
        "    wandb.login(key=api_key)  # Login to wandb with the API key\n",
        "    anonymous = None  # Set anonymous mode to None\n",
        "except:\n",
        "    anonymous = 'must'  # Set anonymous mode to 'must'\n",
        "    wandb.login(anonymous=anonymous, relogin=True)  # Login to wandb anonymously and relogin if needed"
      ]
    },
    {
      "cell_type": "markdown",
      "id": "8c1f02b6",
      "metadata": {
        "papermill": {
          "duration": 0.019771,
          "end_time": "2023-11-17T02:52:51.186477",
          "exception": false,
          "start_time": "2023-11-17T02:52:51.166706",
          "status": "completed"
        },
        "tags": [],
        "id": "8c1f02b6"
      },
      "source": [
        "## Logger\n",
        "\n",
        "The following code cell contains code to log data to WandB. It is noteworthy that the newly released callbacks offer more flexibility in terms of customization, and they are more compact compared to the classic `WandbCallback`, making it easier to use. Here's a brief introduction to them:\n",
        "\n",
        "* **WandbModelCheckpoint**: This callback saves the model or weights using `tf.keras.callbacks.ModelCheckpoint`. Hence, we can harness the power of the official TensorFlow callback to log even `tf.keras.Model` subclass model in TPU.\n",
        "* **WandbMetricsLogger**: This callback simply logs all the metrics and losses.\n",
        "* **WandbEvalCallback**: This one is even more special. We can use it to log the model's prediction after a certain epoch/frequency. We can use it to save segmentation masks, bounding boxes, GradCAM within epochs to check intermediate results and so on.\n",
        "\n",
        "For more details, please check the [official documentation](https://docs.wandb.ai/ref/python/integrations/keras)."
      ]
    },
    {
      "cell_type": "code",
      "execution_count": null,
      "id": "683110dc",
      "metadata": {
        "_kg_hide-input": true,
        "execution": {
          "iopub.execute_input": "2023-11-17T02:52:51.229189Z",
          "iopub.status.busy": "2023-11-17T02:52:51.228373Z",
          "iopub.status.idle": "2023-11-17T02:52:51.236449Z",
          "shell.execute_reply": "2023-11-17T02:52:51.235358Z"
        },
        "papermill": {
          "duration": 0.031884,
          "end_time": "2023-11-17T02:52:51.238529",
          "exception": false,
          "start_time": "2023-11-17T02:52:51.206645",
          "status": "completed"
        },
        "tags": [],
        "id": "683110dc"
      },
      "outputs": [],
      "source": [
        "# from wandb_addons.keras import WandbMetricsLogger\n",
        "# from wandb_addons.keras import WandbModelCheckpoint\n",
        "\n",
        "\n",
        "# Initializes the W&B run with a config file and W&B run settings.\n",
        "def wandb_init(fold):\n",
        "    config = {k: v for k, v in dict(vars(CFG)).items() if '__' not in k}  # Create config dictionary\n",
        "    config.update({\"fold\": int(fold)})  # Add fold to config\n",
        "    run = wandb.init(project=\"llm-fake-text\",\n",
        "                     name=f\"fold-{fold}|max_seq-{CFG.sequence_length}|model-{CFG.preset}\",\n",
        "                     config=config,\n",
        "                     group=CFG.comment,\n",
        "                     save_code=True)\n",
        "    return run\n",
        "\n",
        "# Log best result for error analysis\n",
        "def log_wandb():\n",
        "    wandb.log({'best_auc': best_auc, 'best_loss': best_loss, 'best_epoch': best_epoch})\n",
        "\n",
        "# Fetch W&B callbacks\n",
        "def get_wb_callbacks(fold):\n",
        "#     wb_ckpt = WandbModelCheckpoint(f'fold{fold}.keras',\n",
        "#                                    monitor='val_auc',\n",
        "#                                    save_best_only=True,\n",
        "#                                    save_weights_only=False,\n",
        "#                                    mode='max')\n",
        "    wb_metr = wandb.keras.WandbMetricsLogger()\n",
        "    return [wb_metr]  # Return WandB callbacks\n"
      ]
    },
    {
      "cell_type": "markdown",
      "id": "72acf841",
      "metadata": {
        "papermill": {
          "duration": 0.019955,
          "end_time": "2023-11-17T02:52:51.278316",
          "exception": false,
          "start_time": "2023-11-17T02:52:51.258361",
          "status": "completed"
        },
        "tags": [],
        "id": "72acf841"
      },
      "source": [
        "# ⚓ | LR Schedule\n",
        "\n",
        "Implementing a learning rate scheduler is crucial for transfer learning. The learning rate initiates at `lr_start` and gradually tapers down to `lr_min` using various techniques, including:\n",
        "- `step`: Lowering the learning rate in step-wise manner resembling stairs.\n",
        "- `cos`: Utilizing a cosine curve to gradually reduce the learning rate.\n",
        "- `exp`: Exponentially decreasing the learning rate.\n",
        "\n",
        "**Importance:** A well-structured learning rate schedule is essential for efficient model training, ensuring optimal convergence and avoiding issues such as overshooting or stagnation."
      ]
    },
    {
      "cell_type": "code",
      "execution_count": null,
      "id": "11ac1c9c",
      "metadata": {
        "_kg_hide-input": true,
        "execution": {
          "iopub.execute_input": "2023-11-17T02:52:51.320493Z",
          "iopub.status.busy": "2023-11-17T02:52:51.319718Z",
          "iopub.status.idle": "2023-11-17T02:52:51.330164Z",
          "shell.execute_reply": "2023-11-17T02:52:51.329106Z"
        },
        "papermill": {
          "duration": 0.034052,
          "end_time": "2023-11-17T02:52:51.332316",
          "exception": false,
          "start_time": "2023-11-17T02:52:51.298264",
          "status": "completed"
        },
        "tags": [],
        "id": "11ac1c9c"
      },
      "outputs": [],
      "source": [
        "import math\n",
        "\n",
        "def get_lr_callback(batch_size=8, mode='cos', epochs=10, plot=False):\n",
        "    lr_start, lr_max, lr_min = 0.6e-6, 0.5e-6 * batch_size, 0.3e-6\n",
        "    lr_ramp_ep, lr_sus_ep, lr_decay = 1, 0, 0.75\n",
        "\n",
        "    def lrfn(epoch):  # Learning rate update function\n",
        "        if epoch < lr_ramp_ep: lr = (lr_max - lr_start) / lr_ramp_ep * epoch + lr_start\n",
        "        elif epoch < lr_ramp_ep + lr_sus_ep: lr = lr_max\n",
        "        elif mode == 'exp': lr = (lr_max - lr_min) * lr_decay**(epoch - lr_ramp_ep - lr_sus_ep) + lr_min\n",
        "        elif mode == 'step': lr = lr_max * lr_decay**((epoch - lr_ramp_ep - lr_sus_ep) // 2)\n",
        "        elif mode == 'cos':\n",
        "            decay_total_epochs, decay_epoch_index = epochs - lr_ramp_ep - lr_sus_ep + 3, epoch - lr_ramp_ep - lr_sus_ep\n",
        "            phase = math.pi * decay_epoch_index / decay_total_epochs\n",
        "            lr = (lr_max - lr_min) * 0.5 * (1 + math.cos(phase)) + lr_min\n",
        "        return lr\n",
        "\n",
        "    if plot:  # Plot lr curve if plot is True\n",
        "        plt.figure(figsize=(10, 5))\n",
        "        plt.plot(np.arange(epochs), [lrfn(epoch) for epoch in np.arange(epochs)], marker='o')\n",
        "        plt.xlabel('epoch'); plt.ylabel('lr')\n",
        "        plt.title('LR Scheduler')\n",
        "        plt.show()\n",
        "\n",
        "    return keras.callbacks.LearningRateScheduler(lrfn, verbose=False)  # Create lr callback"
      ]
    },
    {
      "cell_type": "code",
      "execution_count": null,
      "id": "dc8b017c",
      "metadata": {
        "execution": {
          "iopub.execute_input": "2023-11-17T02:52:51.373870Z",
          "iopub.status.busy": "2023-11-17T02:52:51.373506Z",
          "iopub.status.idle": "2023-11-17T02:52:51.660595Z",
          "shell.execute_reply": "2023-11-17T02:52:51.659608Z"
        },
        "papermill": {
          "duration": 0.310392,
          "end_time": "2023-11-17T02:52:51.662874",
          "exception": false,
          "start_time": "2023-11-17T02:52:51.352482",
          "status": "completed"
        },
        "tags": [],
        "id": "dc8b017c"
      },
      "outputs": [],
      "source": [
        "_=get_lr_callback(CFG.batch_size*CFG.replicas, plot=True)"
      ]
    },
    {
      "cell_type": "markdown",
      "id": "5574466e",
      "metadata": {
        "papermill": {
          "duration": 0.021394,
          "end_time": "2023-11-17T02:52:51.705855",
          "exception": false,
          "start_time": "2023-11-17T02:52:51.684461",
          "status": "completed"
        },
        "tags": [],
        "id": "5574466e"
      },
      "source": [
        "# ☎️ | Callbacks\n",
        "\n",
        "The function below will gather all the training callbacks, such as `lr_scheduler`, `model_checkpoint`, `wandb_logger`, and etc."
      ]
    },
    {
      "cell_type": "code",
      "execution_count": null,
      "id": "1c96748c",
      "metadata": {
        "_kg_hide-input": true,
        "execution": {
          "iopub.execute_input": "2023-11-17T02:52:51.748803Z",
          "iopub.status.busy": "2023-11-17T02:52:51.748149Z",
          "iopub.status.idle": "2023-11-17T02:52:51.754603Z",
          "shell.execute_reply": "2023-11-17T02:52:51.753712Z"
        },
        "papermill": {
          "duration": 0.029665,
          "end_time": "2023-11-17T02:52:51.756410",
          "exception": false,
          "start_time": "2023-11-17T02:52:51.726745",
          "status": "completed"
        },
        "tags": [],
        "id": "1c96748c"
      },
      "outputs": [],
      "source": [
        "def get_callbacks(fold):\n",
        "    callbacks = []\n",
        "    lr_cb = get_lr_callback(CFG.batch_size*CFG.replicas)  # Get lr callback\n",
        "    ckpt_cb = keras.callbacks.ModelCheckpoint(f'fold{fold}.keras',\n",
        "                                              monitor='val_auc',\n",
        "                                              save_best_only=True,\n",
        "                                              save_weights_only=False,\n",
        "                                              mode='max')  # Get Model checkpoint callback\n",
        "    callbacks.extend([lr_cb, ckpt_cb])  # Add lr and checkpoint callbacks\n",
        "\n",
        "    if CFG.wandb:  # If WandB is enabled\n",
        "        wb_cbs = get_wb_callbacks(fold)  # Get WandB callbacks\n",
        "        callbacks.extend(wb_cbs)\n",
        "\n",
        "    return callbacks  # Return the list of callbacks"
      ]
    },
    {
      "cell_type": "markdown",
      "id": "3e8fa2c3",
      "metadata": {
        "papermill": {
          "duration": 0.019803,
          "end_time": "2023-11-17T02:52:51.796134",
          "exception": false,
          "start_time": "2023-11-17T02:52:51.776331",
          "status": "completed"
        },
        "tags": [],
        "id": "3e8fa2c3"
      },
      "source": [
        "# 🤖 | Modeling\n",
        "\n"
      ]
    },
    {
      "cell_type": "markdown",
      "id": "e99ace85",
      "metadata": {
        "papermill": {
          "duration": 0.019767,
          "end_time": "2023-11-17T02:52:51.836114",
          "exception": false,
          "start_time": "2023-11-17T02:52:51.816347",
          "status": "completed"
        },
        "tags": [],
        "id": "e99ace85"
      },
      "source": [
        "## KerasNLP Classifier\n",
        "\n",
        "<img src=\"https://keras.io/img/logo.png\" width=\"400\">\n",
        "\n",
        "The `KerasNLP` library provides comprehensive, ready-to-use implementations of popular NLP model architectures. It features a variety of pre-trained models including `Bert`, `Roberta`, `DebertaV3`, and more. In this notebook, we'll showcase the usage of `DebertaV3`. However, feel free to explore all available models in the [KerasNLP documentation](https://keras.io/api/keras_nlp/models/). Also for a deeper understanding of `KerasNLP`, refer to the informative [getting started guide](https://keras.io/guides/keras_nlp/getting_started/).\n",
        "\n",
        "Our approach involves using `keras_nlp.models.XXClassifier` to process each text and generatie logits. These logits are passed through a `softmax` function to produce the final output."
      ]
    },
    {
      "cell_type": "code",
      "execution_count": null,
      "id": "5d74d204",
      "metadata": {
        "execution": {
          "iopub.execute_input": "2023-11-17T02:52:51.878851Z",
          "iopub.status.busy": "2023-11-17T02:52:51.878561Z",
          "iopub.status.idle": "2023-11-17T02:52:51.885405Z",
          "shell.execute_reply": "2023-11-17T02:52:51.884527Z"
        },
        "papermill": {
          "duration": 0.030766,
          "end_time": "2023-11-17T02:52:51.887396",
          "exception": false,
          "start_time": "2023-11-17T02:52:51.856630",
          "status": "completed"
        },
        "tags": [],
        "id": "5d74d204"
      },
      "outputs": [],
      "source": [
        "def build_model():\n",
        "    # Create a DebertaV3Classifier model\n",
        "    classifier = keras_nlp.models.DebertaV3Classifier.from_preset(\n",
        "        CFG.preset,\n",
        "        preprocessor=None,\n",
        "        num_classes=1 # one output per one option, for five options total 5 outputs\n",
        "    )\n",
        "    inputs = classifier.input\n",
        "    logits = classifier(inputs)\n",
        "\n",
        "    # Compute final output\n",
        "    outputs = keras.layers.Activation(\"sigmoid\")(logits)\n",
        "    model = keras.Model(inputs, outputs)\n",
        "\n",
        "    # Compile the model with optimizer, loss, and metrics\n",
        "    model.compile(\n",
        "        optimizer=keras.optimizers.AdamW(5e-6),\n",
        "        loss=keras.losses.BinaryCrossentropy(label_smoothing=0.02),\n",
        "        metrics=[\n",
        "            keras.metrics.AUC(name=\"auc\"),\n",
        "        ],\n",
        "        jit_compile=True\n",
        "    )\n",
        "    return model"
      ]
    },
    {
      "cell_type": "code",
      "execution_count": null,
      "id": "4b4883af",
      "metadata": {
        "execution": {
          "iopub.execute_input": "2023-11-17T02:52:51.928818Z",
          "iopub.status.busy": "2023-11-17T02:52:51.928551Z",
          "iopub.status.idle": "2023-11-17T02:53:01.013617Z",
          "shell.execute_reply": "2023-11-17T02:53:01.012481Z"
        },
        "papermill": {
          "duration": 9.108263,
          "end_time": "2023-11-17T02:53:01.015916",
          "exception": false,
          "start_time": "2023-11-17T02:52:51.907653",
          "status": "completed"
        },
        "tags": [],
        "id": "4b4883af"
      },
      "outputs": [],
      "source": [
        "# with strategy.scope\n",
        "model = build_model()"
      ]
    },
    {
      "cell_type": "markdown",
      "id": "e7eac97c",
      "metadata": {
        "papermill": {
          "duration": 0.031844,
          "end_time": "2023-11-17T02:53:01.077787",
          "exception": false,
          "start_time": "2023-11-17T02:53:01.045943",
          "status": "completed"
        },
        "tags": [],
        "id": "e7eac97c"
      },
      "source": [
        "### Model Summary"
      ]
    },
    {
      "cell_type": "code",
      "execution_count": null,
      "id": "27d87e15",
      "metadata": {
        "_kg_hide-input": true,
        "execution": {
          "iopub.execute_input": "2023-11-17T02:53:01.146842Z",
          "iopub.status.busy": "2023-11-17T02:53:01.145912Z",
          "iopub.status.idle": "2023-11-17T02:53:01.181489Z",
          "shell.execute_reply": "2023-11-17T02:53:01.180524Z"
        },
        "papermill": {
          "duration": 0.074499,
          "end_time": "2023-11-17T02:53:01.183743",
          "exception": false,
          "start_time": "2023-11-17T02:53:01.109244",
          "status": "completed"
        },
        "tags": [],
        "id": "27d87e15"
      },
      "outputs": [],
      "source": [
        "model.summary()"
      ]
    },
    {
      "cell_type": "markdown",
      "id": "c90cd061",
      "metadata": {
        "papermill": {
          "duration": 0.030366,
          "end_time": "2023-11-17T02:53:01.245233",
          "exception": false,
          "start_time": "2023-11-17T02:53:01.214867",
          "status": "completed"
        },
        "tags": [],
        "id": "c90cd061"
      },
      "source": [
        "### Model Plot"
      ]
    },
    {
      "cell_type": "code",
      "execution_count": null,
      "id": "970835f2",
      "metadata": {
        "_kg_hide-input": true,
        "execution": {
          "iopub.execute_input": "2023-11-17T02:53:01.306603Z",
          "iopub.status.busy": "2023-11-17T02:53:01.306241Z",
          "iopub.status.idle": "2023-11-17T02:53:01.830584Z",
          "shell.execute_reply": "2023-11-17T02:53:01.829512Z"
        },
        "papermill": {
          "duration": 0.558424,
          "end_time": "2023-11-17T02:53:01.832860",
          "exception": false,
          "start_time": "2023-11-17T02:53:01.274436",
          "status": "completed"
        },
        "tags": [],
        "id": "970835f2"
      },
      "outputs": [],
      "source": [
        "keras.utils.plot_model(model, show_shapes=True)"
      ]
    },
    {
      "cell_type": "markdown",
      "id": "cbdbaaa0",
      "metadata": {
        "papermill": {
          "duration": 0.031234,
          "end_time": "2023-11-17T02:53:01.895856",
          "exception": false,
          "start_time": "2023-11-17T02:53:01.864622",
          "status": "completed"
        },
        "tags": [],
        "id": "cbdbaaa0"
      },
      "source": [
        "# 🚂 | Training"
      ]
    },
    {
      "cell_type": "code",
      "execution_count": null,
      "id": "de267617",
      "metadata": {
        "_kg_hide-input": true,
        "execution": {
          "iopub.execute_input": "2023-11-17T02:53:01.959779Z",
          "iopub.status.busy": "2023-11-17T02:53:01.959410Z",
          "iopub.status.idle": "2023-11-17T07:31:27.634300Z",
          "shell.execute_reply": "2023-11-17T07:31:27.633193Z"
        },
        "papermill": {
          "duration": 16705.709123,
          "end_time": "2023-11-17T07:31:27.636517",
          "exception": false,
          "start_time": "2023-11-17T02:53:01.927394",
          "status": "completed"
        },
        "tags": [],
        "id": "de267617"
      },
      "outputs": [],
      "source": [
        "for fold in CFG.selected_folds:\n",
        "    # Initialize Weights and Biases if enabled\n",
        "    if CFG.wandb:\n",
        "        run = wandb_init(fold)\n",
        "\n",
        "    # Get train and validation datasets\n",
        "    (train_ds, train_df), (valid_ds, valid_df) = get_datasets(fold)\n",
        "\n",
        "    # Get callback functions for training\n",
        "    callbacks = get_callbacks(fold)\n",
        "\n",
        "    # Print training information\n",
        "    print('#' * 50)\n",
        "    print(f'\\tFold: {fold + 1} | Model: {CFG.preset}\\n\\tBatch Size: {CFG.batch_size * CFG.replicas} | Scheduler: {CFG.scheduler}')\n",
        "    print(f'\\tNum Train: {len(train_df)} | Num Valid: {len(valid_df)}')\n",
        "    print('#' * 50)\n",
        "\n",
        "    # Clear TensorFlow session and build the model within the strategy scope\n",
        "    K.clear_session()\n",
        "    with strategy.scope():\n",
        "        model = build_model()\n",
        "\n",
        "    # Start training the model\n",
        "    history = model.fit(\n",
        "        train_ds,\n",
        "        epochs=CFG.epochs,\n",
        "        validation_data=valid_ds,\n",
        "        callbacks=callbacks,\n",
        "        steps_per_epoch=int(len(train_df) / CFG.batch_size / CFG.replicas),\n",
        "    )\n",
        "\n",
        "    # Find the epoch with the best validation accuracy\n",
        "    best_epoch = np.argmax(model.history.history['val_auc'])\n",
        "    best_auc = model.history.history['val_auc'][best_epoch]\n",
        "    best_loss = model.history.history['val_loss'][best_epoch]\n",
        "\n",
        "    # Print and display best results\n",
        "    print(f'\\n{\"=\" * 17} FOLD {fold} RESULTS {\"=\" * 17}')\n",
        "    print(f'>>>> BEST Loss  : {best_loss:.3f}\\n>>>> BEST AUC   : {best_auc:.3f}\\n>>>> BEST Epoch : {best_epoch}')\n",
        "    print('=' * 50)\n",
        "\n",
        "    # Log best result on Weights and Biases (wandb) if enabled\n",
        "    if CFG.wandb:\n",
        "        log_wandb()  # Log results\n",
        "        wandb.run.finish()  # Finish the run\n",
        "#         display(ipd.IFrame(run.url, width=1080, height=720)) # show wandb dashboard\n",
        "    print(\"\\n\\n\")"
      ]
    },
    {
      "cell_type": "markdown",
      "id": "a0c7c7f9",
      "metadata": {
        "papermill": {
          "duration": 3.07099,
          "end_time": "2023-11-17T07:31:33.734162",
          "exception": false,
          "start_time": "2023-11-17T07:31:30.663172",
          "status": "completed"
        },
        "tags": [],
        "id": "a0c7c7f9"
      },
      "source": [
        "## Training Log\n",
        "### [Click Here ➡️](https://wandb.ai/awsaf49/llm-fake-text) to check all the training logs in **WandB** dashboard.\n",
        "\n",
        "![image.png](attachment:4164c26d-d907-45db-9df9-93d90713d784.png)"
      ]
    },
    {
      "cell_type": "markdown",
      "id": "6db78fe3",
      "metadata": {
        "papermill": {
          "duration": 3.041231,
          "end_time": "2023-11-17T07:31:39.739358",
          "exception": false,
          "start_time": "2023-11-17T07:31:36.698127",
          "status": "completed"
        },
        "tags": [],
        "id": "6db78fe3"
      },
      "source": [
        "# 🧪 | Prediction"
      ]
    },
    {
      "cell_type": "code",
      "execution_count": null,
      "id": "fa92cba3",
      "metadata": {
        "execution": {
          "iopub.execute_input": "2023-11-17T07:31:45.760888Z",
          "iopub.status.busy": "2023-11-17T07:31:45.760504Z",
          "iopub.status.idle": "2023-11-17T07:33:53.097211Z",
          "shell.execute_reply": "2023-11-17T07:33:53.096397Z"
        },
        "papermill": {
          "duration": 130.354862,
          "end_time": "2023-11-17T07:33:53.099541",
          "exception": false,
          "start_time": "2023-11-17T07:31:42.744679",
          "status": "completed"
        },
        "tags": [],
        "id": "fa92cba3"
      },
      "outputs": [],
      "source": [
        "# Make predictions using the trained model on last validation data\n",
        "predictions = model.predict(\n",
        "    valid_ds,\n",
        "    batch_size=min(CFG.batch_size * CFG.replicas * 2, len(valid_df)), # max batch size = valid size\n",
        "    verbose=1\n",
        ")"
      ]
    },
    {
      "cell_type": "code",
      "execution_count": null,
      "id": "162376c7",
      "metadata": {
        "_kg_hide-input": true,
        "execution": {
          "iopub.execute_input": "2023-11-17T07:33:59.389201Z",
          "iopub.status.busy": "2023-11-17T07:33:59.388825Z",
          "iopub.status.idle": "2023-11-17T07:33:59.398069Z",
          "shell.execute_reply": "2023-11-17T07:33:59.397037Z"
        },
        "papermill": {
          "duration": 3.178633,
          "end_time": "2023-11-17T07:33:59.400551",
          "exception": false,
          "start_time": "2023-11-17T07:33:56.221918",
          "status": "completed"
        },
        "tags": [],
        "id": "162376c7"
      },
      "outputs": [],
      "source": [
        "# Format predictions and true answers\n",
        "pred_answers = (predictions > 0.5).astype(int).squeeze()\n",
        "true_answers = valid_df.label.values\n",
        "\n",
        "# Check 5 Predictions\n",
        "print(\"# Predictions\\n\")\n",
        "for i in range(5):\n",
        "    row = valid_df.iloc[i]\n",
        "    text  = row.text\n",
        "    pred_answer = CFG.label2name[pred_answers[i]]\n",
        "    true_answer = CFG.label2name[true_answers[i]]\n",
        "    print(f\"❓ Text {i+1}:\\n{text[:100]} .... {text[-100:]}\\n\")\n",
        "    print(f\"✅ True: {true_answer}\\n\")\n",
        "    print(f\"🤖 Predicted: {pred_answer}\\n\")\n",
        "    print(\"-\"*90, \"\\n\")"
      ]
    },
    {
      "cell_type": "markdown",
      "id": "4ffbf7bc",
      "metadata": {
        "papermill": {
          "duration": 3.10924,
          "end_time": "2023-11-17T07:34:05.797804",
          "exception": false,
          "start_time": "2023-11-17T07:34:02.688564",
          "status": "completed"
        },
        "tags": [],
        "id": "4ffbf7bc"
      },
      "source": [
        "# ✍️ | Reference\n",
        "* [LLM Science Exam: KerasCore + KerasNLP [TPU]](https://www.kaggle.com/code/awsaf49/llm-science-exam-kerascore-kerasnlp-tpu)\n",
        "* [Keras NLP](https://keras.io/api/keras_nlp/)\n",
        "* [Triple Stratified KFold with TFRecords](https://www.kaggle.com/code/cdeotte/triple-stratified-kfold-with-tfrecords) by @cdeotte"
      ]
    },
    {
      "cell_type": "code",
      "execution_count": null,
      "id": "6d7884bf",
      "metadata": {
        "_kg_hide-input": true,
        "_kg_hide-output": true,
        "execution": {
          "iopub.execute_input": "2023-11-17T07:34:12.065177Z",
          "iopub.status.busy": "2023-11-17T07:34:12.064226Z",
          "iopub.status.idle": "2023-11-17T07:34:13.118213Z",
          "shell.execute_reply": "2023-11-17T07:34:13.116798Z"
        },
        "papermill": {
          "duration": 4.161198,
          "end_time": "2023-11-17T07:34:13.120709",
          "exception": false,
          "start_time": "2023-11-17T07:34:08.959511",
          "status": "completed"
        },
        "tags": [],
        "id": "6d7884bf"
      },
      "outputs": [],
      "source": [
        "!rm -r /kaggle/working/wandb"
      ]
    }
  ],
  "metadata": {
    "kaggle": {
      "accelerator": "nvidiaTeslaT4",
      "dataSources": [
        {
          "databundleVersionId": 6888007,
          "sourceId": 61542,
          "sourceType": "competition"
        },
        {
          "datasetId": 3936750,
          "sourceId": 6847931,
          "sourceType": "datasetVersion"
        },
        {
          "datasetId": 3946973,
          "sourceId": 6867914,
          "sourceType": "datasetVersion"
        },
        {
          "datasetId": 3942644,
          "sourceId": 6890527,
          "sourceType": "datasetVersion"
        }
      ],
      "isGpuEnabled": true,
      "isInternetEnabled": true,
      "language": "python",
      "sourceType": "notebook"
    },
    "kernelspec": {
      "display_name": "Python 3",
      "name": "python3"
    },
    "language_info": {
      "codemirror_mode": {
        "name": "ipython",
        "version": 3
      },
      "file_extension": ".py",
      "mimetype": "text/x-python",
      "name": "python",
      "nbconvert_exporter": "python",
      "pygments_lexer": "ipython3",
      "version": "3.10.12"
    },
    "papermill": {
      "default_parameters": {},
      "duration": 17006.067104,
      "end_time": "2023-11-17T07:34:19.159496",
      "environment_variables": {},
      "exception": null,
      "input_path": "__notebook__.ipynb",
      "output_path": "__notebook__.ipynb",
      "parameters": {},
      "start_time": "2023-11-17T02:50:53.092392",
      "version": "2.4.0"
    },
    "colab": {
      "provenance": [],
      "gpuType": "T4",
      "include_colab_link": true
    },
    "accelerator": "GPU"
  },
  "nbformat": 4,
  "nbformat_minor": 5
}