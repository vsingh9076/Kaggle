{
 "cells": [
  {
   "cell_type": "markdown",
   "id": "2aad16fe",
   "metadata": {
    "papermill": {
     "duration": 0.010161,
     "end_time": "2023-11-22T02:47:40.893419",
     "exception": false,
     "start_time": "2023-11-22T02:47:40.883258",
     "status": "completed"
    },
    "tags": []
   },
   "source": [
    "**Credit** \n",
    "\n",
    "1. Notebook : https://www.kaggle.com/code/thedrcat/detectai-transformers-baseline\n",
    "2. Dataset  : https://www.kaggle.com/datasets/thedrcat/daigt-v2-train-dataset\n",
    "3. Model    : https://huggingface.co/microsoft/deberta-v3-xsmall"
   ]
  },
  {
   "cell_type": "code",
   "execution_count": 1,
   "id": "c69de436",
   "metadata": {
    "execution": {
     "iopub.execute_input": "2023-11-22T02:47:40.914032Z",
     "iopub.status.busy": "2023-11-22T02:47:40.913710Z",
     "iopub.status.idle": "2023-11-22T02:47:40.918075Z",
     "shell.execute_reply": "2023-11-22T02:47:40.917375Z"
    },
    "papermill": {
     "duration": 0.016838,
     "end_time": "2023-11-22T02:47:40.919915",
     "exception": false,
     "start_time": "2023-11-22T02:47:40.903077",
     "status": "completed"
    },
    "tags": []
   },
   "outputs": [],
   "source": [
    "# !pip install wandb\n",
    "# import wandb"
   ]
  },
  {
   "cell_type": "code",
   "execution_count": 2,
   "id": "7fcb5032",
   "metadata": {
    "execution": {
     "iopub.execute_input": "2023-11-22T02:47:40.940059Z",
     "iopub.status.busy": "2023-11-22T02:47:40.939802Z",
     "iopub.status.idle": "2023-11-22T02:47:40.943558Z",
     "shell.execute_reply": "2023-11-22T02:47:40.942747Z"
    },
    "papermill": {
     "duration": 0.015928,
     "end_time": "2023-11-22T02:47:40.945428",
     "exception": false,
     "start_time": "2023-11-22T02:47:40.929500",
     "status": "completed"
    },
    "tags": []
   },
   "outputs": [],
   "source": [
    "# !wandb login"
   ]
  },
  {
   "cell_type": "code",
   "execution_count": 3,
   "id": "d85fcb8d",
   "metadata": {
    "execution": {
     "iopub.execute_input": "2023-11-22T02:47:40.965490Z",
     "iopub.status.busy": "2023-11-22T02:47:40.965250Z",
     "iopub.status.idle": "2023-11-22T02:47:40.968792Z",
     "shell.execute_reply": "2023-11-22T02:47:40.968042Z"
    },
    "papermill": {
     "duration": 0.015563,
     "end_time": "2023-11-22T02:47:40.970550",
     "exception": false,
     "start_time": "2023-11-22T02:47:40.954987",
     "status": "completed"
    },
    "tags": []
   },
   "outputs": [],
   "source": [
    "# %env WANDB_LOG_MODEL=true"
   ]
  },
  {
   "cell_type": "code",
   "execution_count": 4,
   "id": "9b141f06",
   "metadata": {
    "execution": {
     "iopub.execute_input": "2023-11-22T02:47:40.990977Z",
     "iopub.status.busy": "2023-11-22T02:47:40.990735Z",
     "iopub.status.idle": "2023-11-22T02:47:56.169376Z",
     "shell.execute_reply": "2023-11-22T02:47:56.168401Z"
    },
    "papermill": {
     "duration": 15.191364,
     "end_time": "2023-11-22T02:47:56.171723",
     "exception": false,
     "start_time": "2023-11-22T02:47:40.980359",
     "status": "completed"
    },
    "tags": []
   },
   "outputs": [
    {
     "name": "stderr",
     "output_type": "stream",
     "text": [
      "/opt/conda/lib/python3.10/site-packages/scipy/__init__.py:146: UserWarning: A NumPy version >=1.16.5 and <1.23.0 is required for this version of SciPy (detected version 1.23.5\n",
      "  warnings.warn(f\"A NumPy version >={np_minversion} and <{np_maxversion}\"\n"
     ]
    }
   ],
   "source": [
    "import transformers\n",
    "import datasets\n",
    "import pandas as pd\n",
    "import numpy as np\n",
    "\n",
    "from datasets import Dataset\n",
    "from collections import Counter\n",
    "\n",
    "from sklearn.metrics import roc_auc_score\n",
    "\n",
    "from transformers import AutoTokenizer, AutoModelForSequenceClassification, TrainingArguments, Trainer\n",
    "\n"
   ]
  },
  {
   "cell_type": "code",
   "execution_count": 5,
   "id": "f4d2a218",
   "metadata": {
    "execution": {
     "iopub.execute_input": "2023-11-22T02:47:56.192929Z",
     "iopub.status.busy": "2023-11-22T02:47:56.192579Z",
     "iopub.status.idle": "2023-11-22T02:47:56.196479Z",
     "shell.execute_reply": "2023-11-22T02:47:56.195656Z"
    },
    "id": "zVvslsfMIrIh",
    "papermill": {
     "duration": 0.016555,
     "end_time": "2023-11-22T02:47:56.198354",
     "exception": false,
     "start_time": "2023-11-22T02:47:56.181799",
     "status": "completed"
    },
    "tags": []
   },
   "outputs": [],
   "source": [
    "# Load the Huggingface \"microsoft/deberta-v3-xsmall\"\n",
    "model_checkpoint = \"/kaggle/input/huggingfacedebertav3variants/deberta-v3-xsmall\""
   ]
  },
  {
   "cell_type": "code",
   "execution_count": 6,
   "id": "cf24a241",
   "metadata": {
    "execution": {
     "iopub.execute_input": "2023-11-22T02:47:56.218826Z",
     "iopub.status.busy": "2023-11-22T02:47:56.218535Z",
     "iopub.status.idle": "2023-11-22T02:47:58.155085Z",
     "shell.execute_reply": "2023-11-22T02:47:58.154092Z"
    },
    "papermill": {
     "duration": 1.949436,
     "end_time": "2023-11-22T02:47:58.157445",
     "exception": false,
     "start_time": "2023-11-22T02:47:56.208009",
     "status": "completed"
    },
    "tags": []
   },
   "outputs": [],
   "source": [
    "# Loading the Dataset with LLM Generated Data\n",
    "df = pd.read_csv('/kaggle/input/daigt-v2-train-dataset/train_v2_drcat_02.csv')"
   ]
  },
  {
   "cell_type": "code",
   "execution_count": 7,
   "id": "2b7e6a57",
   "metadata": {
    "execution": {
     "iopub.execute_input": "2023-11-22T02:47:58.178571Z",
     "iopub.status.busy": "2023-11-22T02:47:58.178245Z",
     "iopub.status.idle": "2023-11-22T02:47:58.199676Z",
     "shell.execute_reply": "2023-11-22T02:47:58.198567Z"
    },
    "papermill": {
     "duration": 0.034069,
     "end_time": "2023-11-22T02:47:58.201561",
     "exception": false,
     "start_time": "2023-11-22T02:47:58.167492",
     "status": "completed"
    },
    "tags": []
   },
   "outputs": [
    {
     "name": "stdout",
     "output_type": "stream",
     "text": [
      " Train DF Shape :  (44868, 5)\n",
      "\n",
      " Train DF Labels :  label\n",
      "0    27371\n",
      "1    17497\n",
      "Name: count, dtype: int64\n",
      "\n",
      " Train DF Prompt :  prompt_name\n",
      "Distance learning                        5554\n",
      "Seeking multiple opinions                5176\n",
      "Car-free cities                          4717\n",
      "Does the electoral college work?         4434\n",
      "Facial action coding system              3084\n",
      "Mandatory extracurricular activities     3077\n",
      "Summer projects                          2701\n",
      "Driverless cars                          2250\n",
      "Exploring Venus                          2176\n",
      "Cell phones at school                    2119\n",
      "Grades for extracurricular activities    2116\n",
      "Community service                        2092\n",
      "\"A Cowboy Who Rode the Waves\"            1896\n",
      "The Face on Mars                         1893\n",
      "Phones and driving                       1583\n",
      "Name: count, dtype: int64\n"
     ]
    }
   ],
   "source": [
    "print(\" Train DF Shape : \", df.shape)\n",
    "print(\"\\n Train DF Labels : \", df.label.value_counts())\n",
    "print(\"\\n Train DF Prompt : \", df.prompt_name.value_counts())"
   ]
  },
  {
   "cell_type": "code",
   "execution_count": 8,
   "id": "ed38c23e",
   "metadata": {
    "execution": {
     "iopub.execute_input": "2023-11-22T02:47:58.222811Z",
     "iopub.status.busy": "2023-11-22T02:47:58.222063Z",
     "iopub.status.idle": "2023-11-22T02:47:58.260102Z",
     "shell.execute_reply": "2023-11-22T02:47:58.259285Z"
    },
    "papermill": {
     "duration": 0.050713,
     "end_time": "2023-11-22T02:47:58.262082",
     "exception": false,
     "start_time": "2023-11-22T02:47:58.211369",
     "status": "completed"
    },
    "tags": []
   },
   "outputs": [
    {
     "name": "stdout",
     "output_type": "stream",
     "text": [
      " Train DF Shape :  (40151, 5)\n",
      " Val DF Shape :  (4717, 5)\n"
     ]
    },
    {
     "data": {
      "text/html": [
       "<div>\n",
       "<style scoped>\n",
       "    .dataframe tbody tr th:only-of-type {\n",
       "        vertical-align: middle;\n",
       "    }\n",
       "\n",
       "    .dataframe tbody tr th {\n",
       "        vertical-align: top;\n",
       "    }\n",
       "\n",
       "    .dataframe thead th {\n",
       "        text-align: right;\n",
       "    }\n",
       "</style>\n",
       "<table border=\"1\" class=\"dataframe\">\n",
       "  <thead>\n",
       "    <tr style=\"text-align: right;\">\n",
       "      <th></th>\n",
       "      <th>text</th>\n",
       "      <th>label</th>\n",
       "      <th>prompt_name</th>\n",
       "      <th>source</th>\n",
       "      <th>RDizzl3_seven</th>\n",
       "    </tr>\n",
       "  </thead>\n",
       "  <tbody>\n",
       "    <tr>\n",
       "      <th>0</th>\n",
       "      <td>Phones\\n\\nModern humans today are always on th...</td>\n",
       "      <td>0</td>\n",
       "      <td>Phones and driving</td>\n",
       "      <td>persuade_corpus</td>\n",
       "      <td>False</td>\n",
       "    </tr>\n",
       "    <tr>\n",
       "      <th>1</th>\n",
       "      <td>This essay will explain if drivers should or s...</td>\n",
       "      <td>0</td>\n",
       "      <td>Phones and driving</td>\n",
       "      <td>persuade_corpus</td>\n",
       "      <td>False</td>\n",
       "    </tr>\n",
       "  </tbody>\n",
       "</table>\n",
       "</div>"
      ],
      "text/plain": [
       "                                                text  label  \\\n",
       "0  Phones\\n\\nModern humans today are always on th...      0   \n",
       "1  This essay will explain if drivers should or s...      0   \n",
       "\n",
       "          prompt_name           source  RDizzl3_seven  \n",
       "0  Phones and driving  persuade_corpus          False  \n",
       "1  Phones and driving  persuade_corpus          False  "
      ]
     },
     "execution_count": 8,
     "metadata": {},
     "output_type": "execute_result"
    }
   ],
   "source": [
    "# Splitting the Dataset into Train / Val on the basis of a \"prompt_name\"\n",
    "train = df[df.prompt_name != 'Car-free cities'].reset_index(drop=True)\n",
    "valid = df[df.prompt_name == 'Car-free cities'].reset_index(drop=True)\n",
    "print(\" Train DF Shape : \", train.shape)\n",
    "print(\" Val DF Shape : \", valid.shape)\n",
    "\n",
    "train.head(2)"
   ]
  },
  {
   "cell_type": "code",
   "execution_count": 9,
   "id": "c6414d57",
   "metadata": {
    "execution": {
     "iopub.execute_input": "2023-11-22T02:47:58.283312Z",
     "iopub.status.busy": "2023-11-22T02:47:58.283048Z",
     "iopub.status.idle": "2023-11-22T02:47:58.305132Z",
     "shell.execute_reply": "2023-11-22T02:47:58.304453Z"
    },
    "papermill": {
     "duration": 0.034834,
     "end_time": "2023-11-22T02:47:58.307049",
     "exception": false,
     "start_time": "2023-11-22T02:47:58.272215",
     "status": "completed"
    },
    "tags": []
   },
   "outputs": [],
   "source": [
    "# Let's try to undersample the persuade_corpus\n",
    "# https://www.kaggle.com/competitions/llm-detect-ai-generated-text/discussion/452127\n",
    "\n",
    "# In total, the PERSUADE 2.0 corpus comprises over 25,000 argumentative essays produced by 6th-12th grade students \n",
    "# in the United States for 15 prompts on two writing tasks: independent and source-based writing.\n",
    "\n",
    "not_persuade_df = train[train['source'] != 'persuade_corpus']\n",
    "persuade_df = train[train['source'] == 'persuade_corpus']\n",
    "sampled_persuade_df = persuade_df.sample(n=6000, random_state=42)"
   ]
  },
  {
   "cell_type": "code",
   "execution_count": 10,
   "id": "838b2c5e",
   "metadata": {
    "execution": {
     "iopub.execute_input": "2023-11-22T02:47:58.328397Z",
     "iopub.status.busy": "2023-11-22T02:47:58.328117Z",
     "iopub.status.idle": "2023-11-22T02:47:59.744221Z",
     "shell.execute_reply": "2023-11-22T02:47:59.743435Z"
    },
    "papermill": {
     "duration": 1.429094,
     "end_time": "2023-11-22T02:47:59.746360",
     "exception": false,
     "start_time": "2023-11-22T02:47:58.317266",
     "status": "completed"
    },
    "tags": []
   },
   "outputs": [],
   "source": [
    "# Testing idea from discussion with @nbroad about limited characters in human essays\n",
    "all_human = set(list(''.join(sampled_persuade_df.text.to_list())))\n",
    "other = set(list(''.join(not_persuade_df.text.to_list())))"
   ]
  },
  {
   "cell_type": "code",
   "execution_count": 11,
   "id": "c152f2af",
   "metadata": {
    "execution": {
     "iopub.execute_input": "2023-11-22T02:47:59.768182Z",
     "iopub.status.busy": "2023-11-22T02:47:59.767881Z",
     "iopub.status.idle": "2023-11-22T02:47:59.772878Z",
     "shell.execute_reply": "2023-11-22T02:47:59.771979Z"
    },
    "papermill": {
     "duration": 0.01802,
     "end_time": "2023-11-22T02:47:59.774897",
     "exception": false,
     "start_time": "2023-11-22T02:47:59.756877",
     "status": "completed"
    },
    "tags": []
   },
   "outputs": [
    {
     "name": "stdout",
     "output_type": "stream",
     "text": [
      "📱👧🤯が🧐🧠💚👥😋🍭🐶有🐟🚣👍🛋🏔🥜“🌃💥🔧ā📸🕺🌸🌨🎮🌅​🤦🙌🚴📝💆👯😈🏫😌と🥨👇🕰💃💪💦🎹す❄🎩👀🧹ã🤗🥳🌿路🎢\n"
     ]
    }
   ],
   "source": [
    "chars_to_remove = ''.join([x for x in other if x not in all_human])\n",
    "print(chars_to_remove)"
   ]
  },
  {
   "cell_type": "code",
   "execution_count": 12,
   "id": "b6ac2d50",
   "metadata": {
    "execution": {
     "iopub.execute_input": "2023-11-22T02:47:59.796795Z",
     "iopub.status.busy": "2023-11-22T02:47:59.796068Z",
     "iopub.status.idle": "2023-11-22T02:48:00.198744Z",
     "shell.execute_reply": "2023-11-22T02:48:00.197760Z"
    },
    "papermill": {
     "duration": 0.415911,
     "end_time": "2023-11-22T02:48:00.200949",
     "exception": false,
     "start_time": "2023-11-22T02:47:59.785038",
     "status": "completed"
    },
    "tags": []
   },
   "outputs": [
    {
     "name": "stderr",
     "output_type": "stream",
     "text": [
      "/tmp/ipykernel_26/2013655814.py:4: SettingWithCopyWarning: \n",
      "A value is trying to be set on a copy of a slice from a DataFrame.\n",
      "Try using .loc[row_indexer,col_indexer] = value instead\n",
      "\n",
      "See the caveats in the documentation: https://pandas.pydata.org/pandas-docs/stable/user_guide/indexing.html#returning-a-view-versus-a-copy\n",
      "  not_persuade_df['text'] = not_persuade_df['text'].apply(remove_chars)\n"
     ]
    }
   ],
   "source": [
    "translation_table = str.maketrans('', '', chars_to_remove)\n",
    "def remove_chars(s):\n",
    "    return s.translate(translation_table)\n",
    "not_persuade_df['text'] = not_persuade_df['text'].apply(remove_chars)"
   ]
  },
  {
   "cell_type": "code",
   "execution_count": 13,
   "id": "d0808cb4",
   "metadata": {
    "execution": {
     "iopub.execute_input": "2023-11-22T02:48:00.224080Z",
     "iopub.status.busy": "2023-11-22T02:48:00.223352Z",
     "iopub.status.idle": "2023-11-22T02:48:00.243528Z",
     "shell.execute_reply": "2023-11-22T02:48:00.242653Z"
    },
    "papermill": {
     "duration": 0.034058,
     "end_time": "2023-11-22T02:48:00.245601",
     "exception": false,
     "start_time": "2023-11-22T02:48:00.211543",
     "status": "completed"
    },
    "tags": []
   },
   "outputs": [
    {
     "data": {
      "text/plain": [
       "source\n",
       "persuade_corpus                       6000\n",
       "llama2_chat                           2411\n",
       "chat_gpt_moth                         2409\n",
       "mistral7binstruct_v1                  2408\n",
       "mistral7binstruct_v2                  2406\n",
       "llama_70b_v1                           984\n",
       "darragh_claude_v6                      952\n",
       "darragh_claude_v7                      951\n",
       "falcon_180b_v1                         899\n",
       "kingki19_palm                          672\n",
       "train_essays                           670\n",
       "cohere-command                         301\n",
       "palm-text-bison1                       300\n",
       "radek_500                              250\n",
       "mistralai/Mistral-7B-Instruct-v0.1     201\n",
       "NousResearch/Llama-2-7b-chat-hf        200\n",
       "radekgpt4                              100\n",
       "Name: count, dtype: int64"
      ]
     },
     "execution_count": 13,
     "metadata": {},
     "output_type": "execute_result"
    }
   ],
   "source": [
    "train = pd.concat([not_persuade_df, sampled_persuade_df]).sample(frac=1, random_state=42).reset_index(drop=True)\n",
    "train.source.value_counts()"
   ]
  },
  {
   "cell_type": "code",
   "execution_count": 14,
   "id": "ae1c0655",
   "metadata": {
    "execution": {
     "iopub.execute_input": "2023-11-22T02:48:00.267889Z",
     "iopub.status.busy": "2023-11-22T02:48:00.267322Z",
     "iopub.status.idle": "2023-11-22T02:48:00.409185Z",
     "shell.execute_reply": "2023-11-22T02:48:00.408371Z"
    },
    "papermill": {
     "duration": 0.155233,
     "end_time": "2023-11-22T02:48:00.411403",
     "exception": false,
     "start_time": "2023-11-22T02:48:00.256170",
     "status": "completed"
    },
    "tags": []
   },
   "outputs": [],
   "source": [
    "ds_train = Dataset.from_pandas(train)\n",
    "ds_valid = Dataset.from_pandas(valid)"
   ]
  },
  {
   "cell_type": "code",
   "execution_count": 15,
   "id": "3bde8e6d",
   "metadata": {
    "execution": {
     "iopub.execute_input": "2023-11-22T02:48:00.433873Z",
     "iopub.status.busy": "2023-11-22T02:48:00.433542Z",
     "iopub.status.idle": "2023-11-22T02:48:00.437922Z",
     "shell.execute_reply": "2023-11-22T02:48:00.437060Z"
    },
    "papermill": {
     "duration": 0.017752,
     "end_time": "2023-11-22T02:48:00.439988",
     "exception": false,
     "start_time": "2023-11-22T02:48:00.422236",
     "status": "completed"
    },
    "tags": []
   },
   "outputs": [
    {
     "name": "stdout",
     "output_type": "stream",
     "text": [
      " ### Train ###  \n",
      " Dataset({\n",
      "    features: ['text', 'label', 'prompt_name', 'source', 'RDizzl3_seven'],\n",
      "    num_rows: 22114\n",
      "})\n",
      "\n",
      " ### Val ###  \n",
      " Dataset({\n",
      "    features: ['text', 'label', 'prompt_name', 'source', 'RDizzl3_seven'],\n",
      "    num_rows: 4717\n",
      "})\n"
     ]
    }
   ],
   "source": [
    "print(\" ### Train ###  \\n\",ds_train)\n",
    "print(\"\\n ### Val ###  \\n\",ds_valid)"
   ]
  },
  {
   "cell_type": "code",
   "execution_count": 16,
   "id": "0f5d025f",
   "metadata": {
    "execution": {
     "iopub.execute_input": "2023-11-22T02:48:00.461821Z",
     "iopub.status.busy": "2023-11-22T02:48:00.461535Z",
     "iopub.status.idle": "2023-11-22T02:48:01.638056Z",
     "shell.execute_reply": "2023-11-22T02:48:01.636841Z"
    },
    "id": "eXNLu_-nIrJI",
    "papermill": {
     "duration": 1.189895,
     "end_time": "2023-11-22T02:48:01.640224",
     "exception": false,
     "start_time": "2023-11-22T02:48:00.450329",
     "status": "completed"
    },
    "tags": []
   },
   "outputs": [
    {
     "name": "stderr",
     "output_type": "stream",
     "text": [
      "Special tokens have been added in the vocabulary, make sure the associated word embeddings are fine-tuned or trained.\n",
      "/opt/conda/lib/python3.10/site-packages/transformers/convert_slow_tokenizer.py:473: UserWarning: The sentencepiece tokenizer that you are converting to a fast tokenizer uses the byte fallback option which is not implemented in the fast tokenizers. In practice this means that the fast version of the tokenizer can produce unknown tokens whereas the sentencepiece version would have converted these unknown tokens into a sequence of byte tokens matching the original piece of text.\n",
      "  warnings.warn(\n",
      "Special tokens have been added in the vocabulary, make sure the associated word embeddings are fine-tuned or trained.\n"
     ]
    }
   ],
   "source": [
    "tokenizer = AutoTokenizer.from_pretrained(model_checkpoint, use_fast=True)"
   ]
  },
  {
   "cell_type": "code",
   "execution_count": 17,
   "id": "0cf676c0",
   "metadata": {
    "execution": {
     "iopub.execute_input": "2023-11-22T02:48:01.663460Z",
     "iopub.status.busy": "2023-11-22T02:48:01.663159Z",
     "iopub.status.idle": "2023-11-22T02:48:01.667371Z",
     "shell.execute_reply": "2023-11-22T02:48:01.666542Z"
    },
    "id": "vc0BSBLIIrJQ",
    "papermill": {
     "duration": 0.017899,
     "end_time": "2023-11-22T02:48:01.669205",
     "exception": false,
     "start_time": "2023-11-22T02:48:01.651306",
     "status": "completed"
    },
    "tags": []
   },
   "outputs": [],
   "source": [
    "def preprocess_function(examples):\n",
    "    return tokenizer(examples['text'], max_length=128, padding=True, truncation=True)"
   ]
  },
  {
   "cell_type": "code",
   "execution_count": 18,
   "id": "3f558192",
   "metadata": {
    "execution": {
     "iopub.execute_input": "2023-11-22T02:48:01.691493Z",
     "iopub.status.busy": "2023-11-22T02:48:01.691228Z",
     "iopub.status.idle": "2023-11-22T02:48:15.320111Z",
     "shell.execute_reply": "2023-11-22T02:48:15.319339Z"
    },
    "id": "DDtsaJeVIrJT",
    "outputId": "aa4734bf-4ef5-4437-9948-2c16363da719",
    "papermill": {
     "duration": 13.642217,
     "end_time": "2023-11-22T02:48:15.322090",
     "exception": false,
     "start_time": "2023-11-22T02:48:01.679873",
     "status": "completed"
    },
    "tags": []
   },
   "outputs": [
    {
     "data": {
      "application/vnd.jupyter.widget-view+json": {
       "model_id": "5cf99a2832824e038b58f2031a40ba81",
       "version_major": 2,
       "version_minor": 0
      },
      "text/plain": [
       "  0%|          | 0/23 [00:00<?, ?ba/s]"
      ]
     },
     "metadata": {},
     "output_type": "display_data"
    }
   ],
   "source": [
    "ds_train_enc = ds_train.map(preprocess_function, batched=True)"
   ]
  },
  {
   "cell_type": "code",
   "execution_count": 19,
   "id": "dcad3f94",
   "metadata": {
    "execution": {
     "iopub.execute_input": "2023-11-22T02:48:15.345726Z",
     "iopub.status.busy": "2023-11-22T02:48:15.345306Z",
     "iopub.status.idle": "2023-11-22T02:48:15.397570Z",
     "shell.execute_reply": "2023-11-22T02:48:15.396568Z"
    },
    "papermill": {
     "duration": 0.066285,
     "end_time": "2023-11-22T02:48:15.399638",
     "exception": false,
     "start_time": "2023-11-22T02:48:15.333353",
     "status": "completed"
    },
    "tags": []
   },
   "outputs": [
    {
     "name": "stdout",
     "output_type": "stream",
     "text": [
      " ### Train Dataset ###  \n",
      " Dataset({\n",
      "    features: ['text', 'label', 'prompt_name', 'source', 'RDizzl3_seven', 'input_ids', 'token_type_ids', 'attention_mask'],\n",
      "    num_rows: 22114\n",
      "})\n",
      "\n",
      " Unique Prompts : {'Grades for extracurricular activities', 'Seeking multiple opinions', 'Cell phones at school', 'Summer projects', 'The Face on Mars', 'Mandatory extracurricular activities', 'Exploring Venus', '\"A Cowboy Who Rode the Waves\"', 'Facial action coding system', 'Phones and driving', 'Distance learning', 'Does the electoral college work?', 'Community service', 'Driverless cars'}\n",
      "\n",
      " Value Counts Label :  Counter({1: 15446, 0: 6668})\n"
     ]
    }
   ],
   "source": [
    "print(\" ### Train Dataset ###  \\n\", ds_train_enc)\n",
    "print(\"\\n Unique Prompts :\", set(ds_train_enc['prompt_name']))\n",
    "print(\"\\n Value Counts Label : \", Counter(ds_train_enc['label']))"
   ]
  },
  {
   "cell_type": "code",
   "execution_count": 20,
   "id": "6f2af7b2",
   "metadata": {
    "execution": {
     "iopub.execute_input": "2023-11-22T02:48:15.423036Z",
     "iopub.status.busy": "2023-11-22T02:48:15.422760Z",
     "iopub.status.idle": "2023-11-22T02:48:19.285108Z",
     "shell.execute_reply": "2023-11-22T02:48:19.284394Z"
    },
    "papermill": {
     "duration": 3.876148,
     "end_time": "2023-11-22T02:48:19.287131",
     "exception": false,
     "start_time": "2023-11-22T02:48:15.410983",
     "status": "completed"
    },
    "tags": []
   },
   "outputs": [
    {
     "data": {
      "application/vnd.jupyter.widget-view+json": {
       "model_id": "d54d9eab69bf4ac386052d6b5d5de7a6",
       "version_major": 2,
       "version_minor": 0
      },
      "text/plain": [
       "  0%|          | 0/5 [00:00<?, ?ba/s]"
      ]
     },
     "metadata": {},
     "output_type": "display_data"
    }
   ],
   "source": [
    "ds_valid_enc = ds_valid.map(preprocess_function, batched=True)"
   ]
  },
  {
   "cell_type": "code",
   "execution_count": 21,
   "id": "1e15eab7",
   "metadata": {
    "execution": {
     "iopub.execute_input": "2023-11-22T02:48:19.311102Z",
     "iopub.status.busy": "2023-11-22T02:48:19.310811Z",
     "iopub.status.idle": "2023-11-22T02:48:19.326083Z",
     "shell.execute_reply": "2023-11-22T02:48:19.325112Z"
    },
    "papermill": {
     "duration": 0.029493,
     "end_time": "2023-11-22T02:48:19.328068",
     "exception": false,
     "start_time": "2023-11-22T02:48:19.298575",
     "status": "completed"
    },
    "tags": []
   },
   "outputs": [
    {
     "name": "stdout",
     "output_type": "stream",
     "text": [
      " ### Val Dataset ###  \n",
      " Dataset({\n",
      "    features: ['text', 'label', 'prompt_name', 'source', 'RDizzl3_seven', 'input_ids', 'token_type_ids', 'attention_mask'],\n",
      "    num_rows: 4717\n",
      "})\n",
      "\n",
      " Unique Prompts : {'Car-free cities'}\n",
      "\n",
      " Value Counts Label :  Counter({0: 2666, 1: 2051})\n"
     ]
    }
   ],
   "source": [
    "print(\" ### Val Dataset ###  \\n\", ds_valid_enc)\n",
    "print(\"\\n Unique Prompts :\", set(ds_valid_enc['prompt_name']))\n",
    "print(\"\\n Value Counts Label : \", Counter(ds_valid_enc['label']))\n"
   ]
  },
  {
   "cell_type": "code",
   "execution_count": 22,
   "id": "be04e618",
   "metadata": {
    "execution": {
     "iopub.execute_input": "2023-11-22T02:48:19.351625Z",
     "iopub.status.busy": "2023-11-22T02:48:19.351320Z",
     "iopub.status.idle": "2023-11-22T02:48:22.796169Z",
     "shell.execute_reply": "2023-11-22T02:48:22.795398Z"
    },
    "id": "TlqNaB8jIrJW",
    "outputId": "84916cf3-6e6c-47f3-d081-032ec30a4132",
    "papermill": {
     "duration": 3.458838,
     "end_time": "2023-11-22T02:48:22.798235",
     "exception": false,
     "start_time": "2023-11-22T02:48:19.339397",
     "status": "completed"
    },
    "tags": []
   },
   "outputs": [
    {
     "name": "stderr",
     "output_type": "stream",
     "text": [
      "Some weights of DebertaV2ForSequenceClassification were not initialized from the model checkpoint at /kaggle/input/huggingfacedebertav3variants/deberta-v3-xsmall and are newly initialized: ['classifier.weight', 'pooler.dense.bias', 'classifier.bias', 'pooler.dense.weight']\n",
      "You should probably TRAIN this model on a down-stream task to be able to use it for predictions and inference.\n"
     ]
    }
   ],
   "source": [
    "num_labels = 2\n",
    "model = AutoModelForSequenceClassification.from_pretrained(model_checkpoint, num_labels=num_labels)"
   ]
  },
  {
   "cell_type": "code",
   "execution_count": 23,
   "id": "11a20321",
   "metadata": {
    "execution": {
     "iopub.execute_input": "2023-11-22T02:48:22.866579Z",
     "iopub.status.busy": "2023-11-22T02:48:22.865957Z",
     "iopub.status.idle": "2023-11-22T02:48:22.870462Z",
     "shell.execute_reply": "2023-11-22T02:48:22.869625Z"
    },
    "papermill": {
     "duration": 0.018996,
     "end_time": "2023-11-22T02:48:22.872375",
     "exception": false,
     "start_time": "2023-11-22T02:48:22.853379",
     "status": "completed"
    },
    "tags": []
   },
   "outputs": [],
   "source": [
    "metric_name = \"roc_auc\"\n",
    "model_name = \"deberta-xsmall\"\n",
    "train_batch_size = 4\n",
    "eval_batch_size = 32\n",
    "grad_acc = 4"
   ]
  },
  {
   "cell_type": "code",
   "execution_count": 24,
   "id": "ecdf7fbe",
   "metadata": {
    "execution": {
     "iopub.execute_input": "2023-11-22T02:48:22.896084Z",
     "iopub.status.busy": "2023-11-22T02:48:22.895821Z",
     "iopub.status.idle": "2023-11-22T02:48:22.900505Z",
     "shell.execute_reply": "2023-11-22T02:48:22.899741Z"
    },
    "papermill": {
     "duration": 0.018665,
     "end_time": "2023-11-22T02:48:22.902319",
     "exception": false,
     "start_time": "2023-11-22T02:48:22.883654",
     "status": "completed"
    },
    "tags": []
   },
   "outputs": [
    {
     "name": "stdout",
     "output_type": "stream",
     "text": [
      "Total Training Steps :  1382\n"
     ]
    }
   ],
   "source": [
    "num_steps = len(train) // (train_batch_size * grad_acc)\n",
    "print(\"Total Training Steps : \", num_steps)"
   ]
  },
  {
   "cell_type": "code",
   "execution_count": 25,
   "id": "60240536",
   "metadata": {
    "execution": {
     "iopub.execute_input": "2023-11-22T02:48:22.926058Z",
     "iopub.status.busy": "2023-11-22T02:48:22.925775Z",
     "iopub.status.idle": "2023-11-22T02:48:23.000553Z",
     "shell.execute_reply": "2023-11-22T02:48:22.999615Z"
    },
    "id": "Bliy8zgjIrJY",
    "papermill": {
     "duration": 0.089143,
     "end_time": "2023-11-22T02:48:23.002839",
     "exception": false,
     "start_time": "2023-11-22T02:48:22.913696",
     "status": "completed"
    },
    "tags": []
   },
   "outputs": [],
   "source": [
    "args = TrainingArguments(\n",
    "    f\"{model_name}-finetuned\",\n",
    "    evaluation_strategy = \"steps\",\n",
    "    save_strategy = \"steps\",\n",
    "    eval_steps = num_steps // 3,\n",
    "    save_steps = num_steps // 3,\n",
    "    learning_rate=2e-5,\n",
    "    per_device_train_batch_size=train_batch_size,\n",
    "    per_device_eval_batch_size=eval_batch_size,\n",
    "    gradient_accumulation_steps=grad_acc,\n",
    "    num_train_epochs=1,\n",
    "    weight_decay=0.01,\n",
    "    load_best_model_at_end=False,\n",
    "    metric_for_best_model=metric_name,\n",
    "    report_to='none',\n",
    "    run_name = 'LLM_Detect_AI_Text'\n",
    ")"
   ]
  },
  {
   "cell_type": "code",
   "execution_count": 26,
   "id": "be7d0d65",
   "metadata": {
    "execution": {
     "iopub.execute_input": "2023-11-22T02:48:23.027566Z",
     "iopub.status.busy": "2023-11-22T02:48:23.027269Z",
     "iopub.status.idle": "2023-11-22T02:48:23.032368Z",
     "shell.execute_reply": "2023-11-22T02:48:23.031486Z"
    },
    "id": "UmvbnJ9JIrJd",
    "papermill": {
     "duration": 0.019356,
     "end_time": "2023-11-22T02:48:23.034298",
     "exception": false,
     "start_time": "2023-11-22T02:48:23.014942",
     "status": "completed"
    },
    "tags": []
   },
   "outputs": [],
   "source": [
    "def compute_metrics(eval_pred):\n",
    "    logits, labels = eval_pred\n",
    "    probs = np.exp(logits) / np.sum(np.exp(logits), axis=-1, keepdims=True)\n",
    "    auc = roc_auc_score(labels, probs[:,1], multi_class='ovr')\n",
    "    return {\"roc_auc\": auc}"
   ]
  },
  {
   "cell_type": "code",
   "execution_count": 27,
   "id": "763c825d",
   "metadata": {
    "execution": {
     "iopub.execute_input": "2023-11-22T02:48:23.058575Z",
     "iopub.status.busy": "2023-11-22T02:48:23.057898Z",
     "iopub.status.idle": "2023-11-22T02:48:28.112972Z",
     "shell.execute_reply": "2023-11-22T02:48:28.111798Z"
    },
    "id": "imY1oC3SIrJf",
    "papermill": {
     "duration": 5.06973,
     "end_time": "2023-11-22T02:48:28.115415",
     "exception": false,
     "start_time": "2023-11-22T02:48:23.045685",
     "status": "completed"
    },
    "tags": []
   },
   "outputs": [],
   "source": [
    "trainer = Trainer(\n",
    "    model,\n",
    "    args,\n",
    "    train_dataset=ds_train_enc,\n",
    "    eval_dataset=ds_valid_enc,\n",
    "    tokenizer=tokenizer,\n",
    "    compute_metrics=compute_metrics\n",
    ")"
   ]
  },
  {
   "cell_type": "code",
   "execution_count": 28,
   "id": "86b9ae0a",
   "metadata": {
    "execution": {
     "iopub.execute_input": "2023-11-22T02:48:28.140207Z",
     "iopub.status.busy": "2023-11-22T02:48:28.139892Z",
     "iopub.status.idle": "2023-11-22T02:54:52.513998Z",
     "shell.execute_reply": "2023-11-22T02:54:52.513085Z"
    },
    "id": "uNx5pyRlIrJh",
    "outputId": "077e661e-d36c-469b-89b8-7ff7f73541ec",
    "papermill": {
     "duration": 384.38831,
     "end_time": "2023-11-22T02:54:52.515813",
     "exception": false,
     "start_time": "2023-11-22T02:48:28.127503",
     "status": "completed"
    },
    "tags": []
   },
   "outputs": [
    {
     "name": "stderr",
     "output_type": "stream",
     "text": [
      "You're using a DebertaV2TokenizerFast tokenizer. Please note that with a fast tokenizer, using the `__call__` method is faster than using a method to encode the text followed by a call to the `pad` method to get a padded encoding.\n"
     ]
    },
    {
     "data": {
      "text/html": [
       "\n",
       "    <div>\n",
       "      \n",
       "      <progress value='1382' max='1382' style='width:300px; height:20px; vertical-align: middle;'></progress>\n",
       "      [1382/1382 06:21, Epoch 0/1]\n",
       "    </div>\n",
       "    <table border=\"1\" class=\"dataframe\">\n",
       "  <thead>\n",
       " <tr style=\"text-align: left;\">\n",
       "      <th>Step</th>\n",
       "      <th>Training Loss</th>\n",
       "      <th>Validation Loss</th>\n",
       "      <th>Roc Auc</th>\n",
       "    </tr>\n",
       "  </thead>\n",
       "  <tbody>\n",
       "    <tr>\n",
       "      <td>460</td>\n",
       "      <td>No log</td>\n",
       "      <td>0.300964</td>\n",
       "      <td>0.991946</td>\n",
       "    </tr>\n",
       "    <tr>\n",
       "      <td>920</td>\n",
       "      <td>0.143100</td>\n",
       "      <td>0.506143</td>\n",
       "      <td>0.987818</td>\n",
       "    </tr>\n",
       "    <tr>\n",
       "      <td>1380</td>\n",
       "      <td>0.049900</td>\n",
       "      <td>0.255214</td>\n",
       "      <td>0.997117</td>\n",
       "    </tr>\n",
       "  </tbody>\n",
       "</table><p>"
      ],
      "text/plain": [
       "<IPython.core.display.HTML object>"
      ]
     },
     "metadata": {},
     "output_type": "display_data"
    },
    {
     "data": {
      "text/plain": [
       "TrainOutput(global_step=1382, training_loss=0.0793227307530802, metrics={'train_runtime': 384.1025, 'train_samples_per_second': 57.573, 'train_steps_per_second': 3.598, 'total_flos': 364157494247424.0, 'train_loss': 0.0793227307530802, 'epoch': 1.0})"
      ]
     },
     "execution_count": 28,
     "metadata": {},
     "output_type": "execute_result"
    }
   ],
   "source": [
    "trainer.train()"
   ]
  },
  {
   "cell_type": "code",
   "execution_count": 29,
   "id": "b07becf2",
   "metadata": {
    "execution": {
     "iopub.execute_input": "2023-11-22T02:54:52.542031Z",
     "iopub.status.busy": "2023-11-22T02:54:52.541716Z",
     "iopub.status.idle": "2023-11-22T02:54:52.574353Z",
     "shell.execute_reply": "2023-11-22T02:54:52.573501Z"
    },
    "papermill": {
     "duration": 0.048957,
     "end_time": "2023-11-22T02:54:52.577457",
     "exception": false,
     "start_time": "2023-11-22T02:54:52.528500",
     "status": "completed"
    },
    "tags": []
   },
   "outputs": [
    {
     "data": {
      "application/vnd.jupyter.widget-view+json": {
       "model_id": "0f21c0de2ef24821ac4f16bb70463fdb",
       "version_major": 2,
       "version_minor": 0
      },
      "text/plain": [
       "  0%|          | 0/1 [00:00<?, ?ba/s]"
      ]
     },
     "metadata": {},
     "output_type": "display_data"
    }
   ],
   "source": [
    "test = pd.read_csv('/kaggle/input/llm-detect-ai-generated-text/test_essays.csv')\n",
    "test_ds = Dataset.from_pandas(test)\n",
    "test_ds_enc = test_ds.map(preprocess_function, batched=True)"
   ]
  },
  {
   "cell_type": "code",
   "execution_count": 30,
   "id": "040ba9bf",
   "metadata": {
    "execution": {
     "iopub.execute_input": "2023-11-22T02:54:52.602657Z",
     "iopub.status.busy": "2023-11-22T02:54:52.602326Z",
     "iopub.status.idle": "2023-11-22T02:54:52.634868Z",
     "shell.execute_reply": "2023-11-22T02:54:52.634005Z"
    },
    "papermill": {
     "duration": 0.047393,
     "end_time": "2023-11-22T02:54:52.636867",
     "exception": false,
     "start_time": "2023-11-22T02:54:52.589474",
     "status": "completed"
    },
    "tags": []
   },
   "outputs": [
    {
     "data": {
      "text/html": [],
      "text/plain": [
       "<IPython.core.display.HTML object>"
      ]
     },
     "metadata": {},
     "output_type": "display_data"
    }
   ],
   "source": [
    "test_preds = trainer.predict(test_ds_enc)"
   ]
  },
  {
   "cell_type": "code",
   "execution_count": 31,
   "id": "a7f68864",
   "metadata": {
    "execution": {
     "iopub.execute_input": "2023-11-22T02:54:52.663276Z",
     "iopub.status.busy": "2023-11-22T02:54:52.662995Z",
     "iopub.status.idle": "2023-11-22T02:54:52.668053Z",
     "shell.execute_reply": "2023-11-22T02:54:52.667138Z"
    },
    "papermill": {
     "duration": 0.02059,
     "end_time": "2023-11-22T02:54:52.670122",
     "exception": false,
     "start_time": "2023-11-22T02:54:52.649532",
     "status": "completed"
    },
    "tags": []
   },
   "outputs": [
    {
     "name": "stdout",
     "output_type": "stream",
     "text": [
      "Test Predictions :  PredictionOutput(predictions=array([[-0.27906865,  0.37921295],\n",
      "       [-2.7127442 ,  2.5009239 ],\n",
      "       [-3.045803  ,  2.7482803 ]], dtype=float32), label_ids=None, metrics={'test_runtime': 0.0249, 'test_samples_per_second': 120.626, 'test_steps_per_second': 40.209})\n"
     ]
    }
   ],
   "source": [
    "print(\"Test Predictions : \", test_preds)"
   ]
  },
  {
   "cell_type": "code",
   "execution_count": 32,
   "id": "6843efa6",
   "metadata": {
    "execution": {
     "iopub.execute_input": "2023-11-22T02:54:52.695546Z",
     "iopub.status.busy": "2023-11-22T02:54:52.695282Z",
     "iopub.status.idle": "2023-11-22T02:54:52.700499Z",
     "shell.execute_reply": "2023-11-22T02:54:52.699629Z"
    },
    "papermill": {
     "duration": 0.02002,
     "end_time": "2023-11-22T02:54:52.702414",
     "exception": false,
     "start_time": "2023-11-22T02:54:52.682394",
     "status": "completed"
    },
    "tags": []
   },
   "outputs": [
    {
     "name": "stdout",
     "output_type": "stream",
     "text": [
      "Logits : [[-0.27906865  0.37921295]\n",
      " [-2.7127442   2.5009239 ]\n",
      " [-3.045803    2.7482803 ]]\n"
     ]
    }
   ],
   "source": [
    "logits = test_preds.predictions\n",
    "print(\"Logits :\", logits)"
   ]
  },
  {
   "cell_type": "code",
   "execution_count": 33,
   "id": "27491599",
   "metadata": {
    "execution": {
     "iopub.execute_input": "2023-11-22T02:54:52.728083Z",
     "iopub.status.busy": "2023-11-22T02:54:52.727815Z",
     "iopub.status.idle": "2023-11-22T02:54:52.733207Z",
     "shell.execute_reply": "2023-11-22T02:54:52.732200Z"
    },
    "papermill": {
     "duration": 0.020432,
     "end_time": "2023-11-22T02:54:52.735272",
     "exception": false,
     "start_time": "2023-11-22T02:54:52.714840",
     "status": "completed"
    },
    "tags": []
   },
   "outputs": [
    {
     "name": "stdout",
     "output_type": "stream",
     "text": [
      "Probs : [[0.3411258  0.6588743 ]\n",
      " [0.00541223 0.9945878 ]\n",
      " [0.00303627 0.99696374]]\n"
     ]
    }
   ],
   "source": [
    "probs = np.exp(logits) / np.sum(np.exp(logits), axis=-1, keepdims=True)\n",
    "print(\"Probs :\", probs)"
   ]
  },
  {
   "cell_type": "code",
   "execution_count": 34,
   "id": "811e75ff",
   "metadata": {
    "execution": {
     "iopub.execute_input": "2023-11-22T02:54:52.760915Z",
     "iopub.status.busy": "2023-11-22T02:54:52.760618Z",
     "iopub.status.idle": "2023-11-22T02:54:52.775992Z",
     "shell.execute_reply": "2023-11-22T02:54:52.775191Z"
    },
    "papermill": {
     "duration": 0.030301,
     "end_time": "2023-11-22T02:54:52.777838",
     "exception": false,
     "start_time": "2023-11-22T02:54:52.747537",
     "status": "completed"
    },
    "tags": []
   },
   "outputs": [
    {
     "data": {
      "text/html": [
       "<div>\n",
       "<style scoped>\n",
       "    .dataframe tbody tr th:only-of-type {\n",
       "        vertical-align: middle;\n",
       "    }\n",
       "\n",
       "    .dataframe tbody tr th {\n",
       "        vertical-align: top;\n",
       "    }\n",
       "\n",
       "    .dataframe thead th {\n",
       "        text-align: right;\n",
       "    }\n",
       "</style>\n",
       "<table border=\"1\" class=\"dataframe\">\n",
       "  <thead>\n",
       "    <tr style=\"text-align: right;\">\n",
       "      <th></th>\n",
       "      <th>id</th>\n",
       "      <th>generated</th>\n",
       "    </tr>\n",
       "  </thead>\n",
       "  <tbody>\n",
       "    <tr>\n",
       "      <th>0</th>\n",
       "      <td>0000aaaa</td>\n",
       "      <td>0.658874</td>\n",
       "    </tr>\n",
       "    <tr>\n",
       "      <th>1</th>\n",
       "      <td>1111bbbb</td>\n",
       "      <td>0.994588</td>\n",
       "    </tr>\n",
       "    <tr>\n",
       "      <th>2</th>\n",
       "      <td>2222cccc</td>\n",
       "      <td>0.996964</td>\n",
       "    </tr>\n",
       "  </tbody>\n",
       "</table>\n",
       "</div>"
      ],
      "text/plain": [
       "         id  generated\n",
       "0  0000aaaa   0.658874\n",
       "1  1111bbbb   0.994588\n",
       "2  2222cccc   0.996964"
      ]
     },
     "execution_count": 34,
     "metadata": {},
     "output_type": "execute_result"
    }
   ],
   "source": [
    "sub = pd.DataFrame()\n",
    "sub['id'] = test['id']\n",
    "sub['generated'] = probs[:,1]\n",
    "sub.to_csv('submission.csv', index=False)\n",
    "sub.head()"
   ]
  },
  {
   "cell_type": "code",
   "execution_count": 35,
   "id": "50b7fdb0",
   "metadata": {
    "execution": {
     "iopub.execute_input": "2023-11-22T02:54:52.803694Z",
     "iopub.status.busy": "2023-11-22T02:54:52.803391Z",
     "iopub.status.idle": "2023-11-22T02:54:52.807437Z",
     "shell.execute_reply": "2023-11-22T02:54:52.806632Z"
    },
    "papermill": {
     "duration": 0.019011,
     "end_time": "2023-11-22T02:54:52.809339",
     "exception": false,
     "start_time": "2023-11-22T02:54:52.790328",
     "status": "completed"
    },
    "tags": []
   },
   "outputs": [],
   "source": [
    "# res = []\n",
    "# for src in valid.source.unique():\n",
    "#     if src in ['train_essays', 'persuade_corpus', 'original_moth']: \n",
    "#         continue\n",
    "#     test2  = valid[valid['source'].isin([src, 'train_essays'])]\n",
    "#     test_ds2 = Dataset.from_pandas(test2)\n",
    "#     test_ds_enc2 = test_ds2.map(preprocess_function, batched=True)\n",
    "#     eval_result = trainer.evaluate(test_ds_enc2)\n",
    "#     score = eval_result['eval_roc_auc']\n",
    "#     res.append(f'{src}: {score}')\n",
    "    \n",
    "# for r in res: \n",
    "#     print(r)"
   ]
  },
  {
   "cell_type": "code",
   "execution_count": null,
   "id": "095bde44",
   "metadata": {
    "papermill": {
     "duration": 0.012032,
     "end_time": "2023-11-22T02:54:52.833727",
     "exception": false,
     "start_time": "2023-11-22T02:54:52.821695",
     "status": "completed"
    },
    "tags": []
   },
   "outputs": [],
   "source": []
  }
 ],
 "metadata": {
  "kaggle": {
   "accelerator": "gpu",
   "dataSources": [
    {
     "databundleVersionId": 6888007,
     "sourceId": 61542,
     "sourceType": "competition"
    },
    {
     "datasetId": 2663421,
     "sourceId": 4620664,
     "sourceType": "datasetVersion"
    },
    {
     "datasetId": 3942644,
     "sourceId": 6890527,
     "sourceType": "datasetVersion"
    },
    {
     "datasetId": 3960967,
     "sourceId": 6901341,
     "sourceType": "datasetVersion"
    },
    {
     "datasetId": 4005256,
     "sourceId": 6977472,
     "sourceType": "datasetVersion"
    }
   ],
   "dockerImageVersionId": 30559,
   "isGpuEnabled": true,
   "isInternetEnabled": false,
   "language": "python",
   "sourceType": "notebook"
  },
  "kernelspec": {
   "display_name": "Python 3",
   "language": "python",
   "name": "python3"
  },
  "language_info": {
   "codemirror_mode": {
    "name": "ipython",
    "version": 3
   },
   "file_extension": ".py",
   "mimetype": "text/x-python",
   "name": "python",
   "nbconvert_exporter": "python",
   "pygments_lexer": "ipython3",
   "version": "3.10.12"
  },
  "papermill": {
   "default_parameters": {},
   "duration": 438.71814,
   "end_time": "2023-11-22T02:54:56.165646",
   "environment_variables": {},
   "exception": null,
   "input_path": "__notebook__.ipynb",
   "output_path": "__notebook__.ipynb",
   "parameters": {},
   "start_time": "2023-11-22T02:47:37.447506",
   "version": "2.4.0"
  },
  "widgets": {
   "application/vnd.jupyter.widget-state+json": {
    "state": {
     "0f21c0de2ef24821ac4f16bb70463fdb": {
      "model_module": "@jupyter-widgets/controls",
      "model_module_version": "1.5.0",
      "model_name": "HBoxModel",
      "state": {
       "_dom_classes": [],
       "_model_module": "@jupyter-widgets/controls",
       "_model_module_version": "1.5.0",
       "_model_name": "HBoxModel",
       "_view_count": null,
       "_view_module": "@jupyter-widgets/controls",
       "_view_module_version": "1.5.0",
       "_view_name": "HBoxView",
       "box_style": "",
       "children": [
        "IPY_MODEL_900779d8b9184806bb4cd3062cedadc6",
        "IPY_MODEL_9d1197ed585b47c8b26b862af3bf75ef",
        "IPY_MODEL_73d90d665bb7466088cc06f04c1e0cb6"
       ],
       "layout": "IPY_MODEL_33049013dba742a4a767ca6f88b18537"
      }
     },
     "1747db38fff347aaae7847a98939b277": {
      "model_module": "@jupyter-widgets/controls",
      "model_module_version": "1.5.0",
      "model_name": "HTMLModel",
      "state": {
       "_dom_classes": [],
       "_model_module": "@jupyter-widgets/controls",
       "_model_module_version": "1.5.0",
       "_model_name": "HTMLModel",
       "_view_count": null,
       "_view_module": "@jupyter-widgets/controls",
       "_view_module_version": "1.5.0",
       "_view_name": "HTMLView",
       "description": "",
       "description_tooltip": null,
       "layout": "IPY_MODEL_84953dace47e406c98b6ba4c74d6d8d5",
       "placeholder": "​",
       "style": "IPY_MODEL_37c0c370c64e4613856fcf42852f53f7",
       "value": " 5/5 [00:03&lt;00:00,  1.38ba/s]"
      }
     },
     "1ecb8d51b7ec4f458aebb14f45bf605f": {
      "model_module": "@jupyter-widgets/base",
      "model_module_version": "1.2.0",
      "model_name": "LayoutModel",
      "state": {
       "_model_module": "@jupyter-widgets/base",
       "_model_module_version": "1.2.0",
       "_model_name": "LayoutModel",
       "_view_count": null,
       "_view_module": "@jupyter-widgets/base",
       "_view_module_version": "1.2.0",
       "_view_name": "LayoutView",
       "align_content": null,
       "align_items": null,
       "align_self": null,
       "border": null,
       "bottom": null,
       "display": null,
       "flex": null,
       "flex_flow": null,
       "grid_area": null,
       "grid_auto_columns": null,
       "grid_auto_flow": null,
       "grid_auto_rows": null,
       "grid_column": null,
       "grid_gap": null,
       "grid_row": null,
       "grid_template_areas": null,
       "grid_template_columns": null,
       "grid_template_rows": null,
       "height": null,
       "justify_content": null,
       "justify_items": null,
       "left": null,
       "margin": null,
       "max_height": null,
       "max_width": null,
       "min_height": null,
       "min_width": null,
       "object_fit": null,
       "object_position": null,
       "order": null,
       "overflow": null,
       "overflow_x": null,
       "overflow_y": null,
       "padding": null,
       "right": null,
       "top": null,
       "visibility": null,
       "width": null
      }
     },
     "2a9927474d594e859f5f076466b619bc": {
      "model_module": "@jupyter-widgets/controls",
      "model_module_version": "1.5.0",
      "model_name": "FloatProgressModel",
      "state": {
       "_dom_classes": [],
       "_model_module": "@jupyter-widgets/controls",
       "_model_module_version": "1.5.0",
       "_model_name": "FloatProgressModel",
       "_view_count": null,
       "_view_module": "@jupyter-widgets/controls",
       "_view_module_version": "1.5.0",
       "_view_name": "ProgressView",
       "bar_style": "success",
       "description": "",
       "description_tooltip": null,
       "layout": "IPY_MODEL_ac3f78297b5049d4913f71731932fa5f",
       "max": 23.0,
       "min": 0.0,
       "orientation": "horizontal",
       "style": "IPY_MODEL_381ff1e62de042ed98e23b0d0c5ca050",
       "value": 23.0
      }
     },
     "2fd5199bed9c402383dcf1237c6fd629": {
      "model_module": "@jupyter-widgets/base",
      "model_module_version": "1.2.0",
      "model_name": "LayoutModel",
      "state": {
       "_model_module": "@jupyter-widgets/base",
       "_model_module_version": "1.2.0",
       "_model_name": "LayoutModel",
       "_view_count": null,
       "_view_module": "@jupyter-widgets/base",
       "_view_module_version": "1.2.0",
       "_view_name": "LayoutView",
       "align_content": null,
       "align_items": null,
       "align_self": null,
       "border": null,
       "bottom": null,
       "display": null,
       "flex": null,
       "flex_flow": null,
       "grid_area": null,
       "grid_auto_columns": null,
       "grid_auto_flow": null,
       "grid_auto_rows": null,
       "grid_column": null,
       "grid_gap": null,
       "grid_row": null,
       "grid_template_areas": null,
       "grid_template_columns": null,
       "grid_template_rows": null,
       "height": null,
       "justify_content": null,
       "justify_items": null,
       "left": null,
       "margin": null,
       "max_height": null,
       "max_width": null,
       "min_height": null,
       "min_width": null,
       "object_fit": null,
       "object_position": null,
       "order": null,
       "overflow": null,
       "overflow_x": null,
       "overflow_y": null,
       "padding": null,
       "right": null,
       "top": null,
       "visibility": null,
       "width": null
      }
     },
     "33049013dba742a4a767ca6f88b18537": {
      "model_module": "@jupyter-widgets/base",
      "model_module_version": "1.2.0",
      "model_name": "LayoutModel",
      "state": {
       "_model_module": "@jupyter-widgets/base",
       "_model_module_version": "1.2.0",
       "_model_name": "LayoutModel",
       "_view_count": null,
       "_view_module": "@jupyter-widgets/base",
       "_view_module_version": "1.2.0",
       "_view_name": "LayoutView",
       "align_content": null,
       "align_items": null,
       "align_self": null,
       "border": null,
       "bottom": null,
       "display": null,
       "flex": null,
       "flex_flow": null,
       "grid_area": null,
       "grid_auto_columns": null,
       "grid_auto_flow": null,
       "grid_auto_rows": null,
       "grid_column": null,
       "grid_gap": null,
       "grid_row": null,
       "grid_template_areas": null,
       "grid_template_columns": null,
       "grid_template_rows": null,
       "height": null,
       "justify_content": null,
       "justify_items": null,
       "left": null,
       "margin": null,
       "max_height": null,
       "max_width": null,
       "min_height": null,
       "min_width": null,
       "object_fit": null,
       "object_position": null,
       "order": null,
       "overflow": null,
       "overflow_x": null,
       "overflow_y": null,
       "padding": null,
       "right": null,
       "top": null,
       "visibility": null,
       "width": null
      }
     },
     "35f28b85d82a4311aba5899e2e1722d4": {
      "model_module": "@jupyter-widgets/controls",
      "model_module_version": "1.5.0",
      "model_name": "HTMLModel",
      "state": {
       "_dom_classes": [],
       "_model_module": "@jupyter-widgets/controls",
       "_model_module_version": "1.5.0",
       "_model_name": "HTMLModel",
       "_view_count": null,
       "_view_module": "@jupyter-widgets/controls",
       "_view_module_version": "1.5.0",
       "_view_name": "HTMLView",
       "description": "",
       "description_tooltip": null,
       "layout": "IPY_MODEL_aad8d5c44be941db8d515c7e9b8bb99d",
       "placeholder": "​",
       "style": "IPY_MODEL_9e94252c20664fc1b361ac4765133354",
       "value": "100%"
      }
     },
     "37c0c370c64e4613856fcf42852f53f7": {
      "model_module": "@jupyter-widgets/controls",
      "model_module_version": "1.5.0",
      "model_name": "DescriptionStyleModel",
      "state": {
       "_model_module": "@jupyter-widgets/controls",
       "_model_module_version": "1.5.0",
       "_model_name": "DescriptionStyleModel",
       "_view_count": null,
       "_view_module": "@jupyter-widgets/base",
       "_view_module_version": "1.2.0",
       "_view_name": "StyleView",
       "description_width": ""
      }
     },
     "381ff1e62de042ed98e23b0d0c5ca050": {
      "model_module": "@jupyter-widgets/controls",
      "model_module_version": "1.5.0",
      "model_name": "ProgressStyleModel",
      "state": {
       "_model_module": "@jupyter-widgets/controls",
       "_model_module_version": "1.5.0",
       "_model_name": "ProgressStyleModel",
       "_view_count": null,
       "_view_module": "@jupyter-widgets/base",
       "_view_module_version": "1.2.0",
       "_view_name": "StyleView",
       "bar_color": null,
       "description_width": ""
      }
     },
     "392a2baf4ed0495791084641edaf633a": {
      "model_module": "@jupyter-widgets/controls",
      "model_module_version": "1.5.0",
      "model_name": "DescriptionStyleModel",
      "state": {
       "_model_module": "@jupyter-widgets/controls",
       "_model_module_version": "1.5.0",
       "_model_name": "DescriptionStyleModel",
       "_view_count": null,
       "_view_module": "@jupyter-widgets/base",
       "_view_module_version": "1.2.0",
       "_view_name": "StyleView",
       "description_width": ""
      }
     },
     "528ea79b02a84b8e9bdac448528971dd": {
      "model_module": "@jupyter-widgets/base",
      "model_module_version": "1.2.0",
      "model_name": "LayoutModel",
      "state": {
       "_model_module": "@jupyter-widgets/base",
       "_model_module_version": "1.2.0",
       "_model_name": "LayoutModel",
       "_view_count": null,
       "_view_module": "@jupyter-widgets/base",
       "_view_module_version": "1.2.0",
       "_view_name": "LayoutView",
       "align_content": null,
       "align_items": null,
       "align_self": null,
       "border": null,
       "bottom": null,
       "display": null,
       "flex": null,
       "flex_flow": null,
       "grid_area": null,
       "grid_auto_columns": null,
       "grid_auto_flow": null,
       "grid_auto_rows": null,
       "grid_column": null,
       "grid_gap": null,
       "grid_row": null,
       "grid_template_areas": null,
       "grid_template_columns": null,
       "grid_template_rows": null,
       "height": null,
       "justify_content": null,
       "justify_items": null,
       "left": null,
       "margin": null,
       "max_height": null,
       "max_width": null,
       "min_height": null,
       "min_width": null,
       "object_fit": null,
       "object_position": null,
       "order": null,
       "overflow": null,
       "overflow_x": null,
       "overflow_y": null,
       "padding": null,
       "right": null,
       "top": null,
       "visibility": null,
       "width": null
      }
     },
     "598a72f05209470f8290a6ca9cbb5af1": {
      "model_module": "@jupyter-widgets/base",
      "model_module_version": "1.2.0",
      "model_name": "LayoutModel",
      "state": {
       "_model_module": "@jupyter-widgets/base",
       "_model_module_version": "1.2.0",
       "_model_name": "LayoutModel",
       "_view_count": null,
       "_view_module": "@jupyter-widgets/base",
       "_view_module_version": "1.2.0",
       "_view_name": "LayoutView",
       "align_content": null,
       "align_items": null,
       "align_self": null,
       "border": null,
       "bottom": null,
       "display": null,
       "flex": null,
       "flex_flow": null,
       "grid_area": null,
       "grid_auto_columns": null,
       "grid_auto_flow": null,
       "grid_auto_rows": null,
       "grid_column": null,
       "grid_gap": null,
       "grid_row": null,
       "grid_template_areas": null,
       "grid_template_columns": null,
       "grid_template_rows": null,
       "height": null,
       "justify_content": null,
       "justify_items": null,
       "left": null,
       "margin": null,
       "max_height": null,
       "max_width": null,
       "min_height": null,
       "min_width": null,
       "object_fit": null,
       "object_position": null,
       "order": null,
       "overflow": null,
       "overflow_x": null,
       "overflow_y": null,
       "padding": null,
       "right": null,
       "top": null,
       "visibility": null,
       "width": null
      }
     },
     "5cf99a2832824e038b58f2031a40ba81": {
      "model_module": "@jupyter-widgets/controls",
      "model_module_version": "1.5.0",
      "model_name": "HBoxModel",
      "state": {
       "_dom_classes": [],
       "_model_module": "@jupyter-widgets/controls",
       "_model_module_version": "1.5.0",
       "_model_name": "HBoxModel",
       "_view_count": null,
       "_view_module": "@jupyter-widgets/controls",
       "_view_module_version": "1.5.0",
       "_view_name": "HBoxView",
       "box_style": "",
       "children": [
        "IPY_MODEL_35f28b85d82a4311aba5899e2e1722d4",
        "IPY_MODEL_2a9927474d594e859f5f076466b619bc",
        "IPY_MODEL_ad4ddfd7ded9417a8e706a493c13a848"
       ],
       "layout": "IPY_MODEL_598a72f05209470f8290a6ca9cbb5af1"
      }
     },
     "7061b6710c6c4a3b87778f692f1b1a7d": {
      "model_module": "@jupyter-widgets/controls",
      "model_module_version": "1.5.0",
      "model_name": "DescriptionStyleModel",
      "state": {
       "_model_module": "@jupyter-widgets/controls",
       "_model_module_version": "1.5.0",
       "_model_name": "DescriptionStyleModel",
       "_view_count": null,
       "_view_module": "@jupyter-widgets/base",
       "_view_module_version": "1.2.0",
       "_view_name": "StyleView",
       "description_width": ""
      }
     },
     "73d90d665bb7466088cc06f04c1e0cb6": {
      "model_module": "@jupyter-widgets/controls",
      "model_module_version": "1.5.0",
      "model_name": "HTMLModel",
      "state": {
       "_dom_classes": [],
       "_model_module": "@jupyter-widgets/controls",
       "_model_module_version": "1.5.0",
       "_model_name": "HTMLModel",
       "_view_count": null,
       "_view_module": "@jupyter-widgets/controls",
       "_view_module_version": "1.5.0",
       "_view_name": "HTMLView",
       "description": "",
       "description_tooltip": null,
       "layout": "IPY_MODEL_bea373296420456abd979c14bfd00c7c",
       "placeholder": "​",
       "style": "IPY_MODEL_f4da482a63af4ba5bcd0f79e7fa7549d",
       "value": " 1/1 [00:00&lt;00:00, 71.88ba/s]"
      }
     },
     "84953dace47e406c98b6ba4c74d6d8d5": {
      "model_module": "@jupyter-widgets/base",
      "model_module_version": "1.2.0",
      "model_name": "LayoutModel",
      "state": {
       "_model_module": "@jupyter-widgets/base",
       "_model_module_version": "1.2.0",
       "_model_name": "LayoutModel",
       "_view_count": null,
       "_view_module": "@jupyter-widgets/base",
       "_view_module_version": "1.2.0",
       "_view_name": "LayoutView",
       "align_content": null,
       "align_items": null,
       "align_self": null,
       "border": null,
       "bottom": null,
       "display": null,
       "flex": null,
       "flex_flow": null,
       "grid_area": null,
       "grid_auto_columns": null,
       "grid_auto_flow": null,
       "grid_auto_rows": null,
       "grid_column": null,
       "grid_gap": null,
       "grid_row": null,
       "grid_template_areas": null,
       "grid_template_columns": null,
       "grid_template_rows": null,
       "height": null,
       "justify_content": null,
       "justify_items": null,
       "left": null,
       "margin": null,
       "max_height": null,
       "max_width": null,
       "min_height": null,
       "min_width": null,
       "object_fit": null,
       "object_position": null,
       "order": null,
       "overflow": null,
       "overflow_x": null,
       "overflow_y": null,
       "padding": null,
       "right": null,
       "top": null,
       "visibility": null,
       "width": null
      }
     },
     "89ac3c3f4be0443a96218f9409f62bbe": {
      "model_module": "@jupyter-widgets/controls",
      "model_module_version": "1.5.0",
      "model_name": "DescriptionStyleModel",
      "state": {
       "_model_module": "@jupyter-widgets/controls",
       "_model_module_version": "1.5.0",
       "_model_name": "DescriptionStyleModel",
       "_view_count": null,
       "_view_module": "@jupyter-widgets/base",
       "_view_module_version": "1.2.0",
       "_view_name": "StyleView",
       "description_width": ""
      }
     },
     "8d9282b09a6840a5a4e856c58e42cf3c": {
      "model_module": "@jupyter-widgets/controls",
      "model_module_version": "1.5.0",
      "model_name": "FloatProgressModel",
      "state": {
       "_dom_classes": [],
       "_model_module": "@jupyter-widgets/controls",
       "_model_module_version": "1.5.0",
       "_model_name": "FloatProgressModel",
       "_view_count": null,
       "_view_module": "@jupyter-widgets/controls",
       "_view_module_version": "1.5.0",
       "_view_name": "ProgressView",
       "bar_style": "success",
       "description": "",
       "description_tooltip": null,
       "layout": "IPY_MODEL_c062c3d1b96f47e5883f889560e7f734",
       "max": 5.0,
       "min": 0.0,
       "orientation": "horizontal",
       "style": "IPY_MODEL_e989acb4e930427ca7a2d4f976aa150a",
       "value": 5.0
      }
     },
     "900779d8b9184806bb4cd3062cedadc6": {
      "model_module": "@jupyter-widgets/controls",
      "model_module_version": "1.5.0",
      "model_name": "HTMLModel",
      "state": {
       "_dom_classes": [],
       "_model_module": "@jupyter-widgets/controls",
       "_model_module_version": "1.5.0",
       "_model_name": "HTMLModel",
       "_view_count": null,
       "_view_module": "@jupyter-widgets/controls",
       "_view_module_version": "1.5.0",
       "_view_name": "HTMLView",
       "description": "",
       "description_tooltip": null,
       "layout": "IPY_MODEL_528ea79b02a84b8e9bdac448528971dd",
       "placeholder": "​",
       "style": "IPY_MODEL_392a2baf4ed0495791084641edaf633a",
       "value": "100%"
      }
     },
     "9d1197ed585b47c8b26b862af3bf75ef": {
      "model_module": "@jupyter-widgets/controls",
      "model_module_version": "1.5.0",
      "model_name": "FloatProgressModel",
      "state": {
       "_dom_classes": [],
       "_model_module": "@jupyter-widgets/controls",
       "_model_module_version": "1.5.0",
       "_model_name": "FloatProgressModel",
       "_view_count": null,
       "_view_module": "@jupyter-widgets/controls",
       "_view_module_version": "1.5.0",
       "_view_name": "ProgressView",
       "bar_style": "success",
       "description": "",
       "description_tooltip": null,
       "layout": "IPY_MODEL_d5c1abfe42b94d428c94731b76b97072",
       "max": 1.0,
       "min": 0.0,
       "orientation": "horizontal",
       "style": "IPY_MODEL_b069ab7717f440018fe9a2ced9935a86",
       "value": 1.0
      }
     },
     "9e94252c20664fc1b361ac4765133354": {
      "model_module": "@jupyter-widgets/controls",
      "model_module_version": "1.5.0",
      "model_name": "DescriptionStyleModel",
      "state": {
       "_model_module": "@jupyter-widgets/controls",
       "_model_module_version": "1.5.0",
       "_model_name": "DescriptionStyleModel",
       "_view_count": null,
       "_view_module": "@jupyter-widgets/base",
       "_view_module_version": "1.2.0",
       "_view_name": "StyleView",
       "description_width": ""
      }
     },
     "a38958d8607c478e80e8917f87bcf846": {
      "model_module": "@jupyter-widgets/controls",
      "model_module_version": "1.5.0",
      "model_name": "HTMLModel",
      "state": {
       "_dom_classes": [],
       "_model_module": "@jupyter-widgets/controls",
       "_model_module_version": "1.5.0",
       "_model_name": "HTMLModel",
       "_view_count": null,
       "_view_module": "@jupyter-widgets/controls",
       "_view_module_version": "1.5.0",
       "_view_name": "HTMLView",
       "description": "",
       "description_tooltip": null,
       "layout": "IPY_MODEL_a87b1dc387d44455924ef5761d85cf60",
       "placeholder": "​",
       "style": "IPY_MODEL_89ac3c3f4be0443a96218f9409f62bbe",
       "value": "100%"
      }
     },
     "a87b1dc387d44455924ef5761d85cf60": {
      "model_module": "@jupyter-widgets/base",
      "model_module_version": "1.2.0",
      "model_name": "LayoutModel",
      "state": {
       "_model_module": "@jupyter-widgets/base",
       "_model_module_version": "1.2.0",
       "_model_name": "LayoutModel",
       "_view_count": null,
       "_view_module": "@jupyter-widgets/base",
       "_view_module_version": "1.2.0",
       "_view_name": "LayoutView",
       "align_content": null,
       "align_items": null,
       "align_self": null,
       "border": null,
       "bottom": null,
       "display": null,
       "flex": null,
       "flex_flow": null,
       "grid_area": null,
       "grid_auto_columns": null,
       "grid_auto_flow": null,
       "grid_auto_rows": null,
       "grid_column": null,
       "grid_gap": null,
       "grid_row": null,
       "grid_template_areas": null,
       "grid_template_columns": null,
       "grid_template_rows": null,
       "height": null,
       "justify_content": null,
       "justify_items": null,
       "left": null,
       "margin": null,
       "max_height": null,
       "max_width": null,
       "min_height": null,
       "min_width": null,
       "object_fit": null,
       "object_position": null,
       "order": null,
       "overflow": null,
       "overflow_x": null,
       "overflow_y": null,
       "padding": null,
       "right": null,
       "top": null,
       "visibility": null,
       "width": null
      }
     },
     "aad8d5c44be941db8d515c7e9b8bb99d": {
      "model_module": "@jupyter-widgets/base",
      "model_module_version": "1.2.0",
      "model_name": "LayoutModel",
      "state": {
       "_model_module": "@jupyter-widgets/base",
       "_model_module_version": "1.2.0",
       "_model_name": "LayoutModel",
       "_view_count": null,
       "_view_module": "@jupyter-widgets/base",
       "_view_module_version": "1.2.0",
       "_view_name": "LayoutView",
       "align_content": null,
       "align_items": null,
       "align_self": null,
       "border": null,
       "bottom": null,
       "display": null,
       "flex": null,
       "flex_flow": null,
       "grid_area": null,
       "grid_auto_columns": null,
       "grid_auto_flow": null,
       "grid_auto_rows": null,
       "grid_column": null,
       "grid_gap": null,
       "grid_row": null,
       "grid_template_areas": null,
       "grid_template_columns": null,
       "grid_template_rows": null,
       "height": null,
       "justify_content": null,
       "justify_items": null,
       "left": null,
       "margin": null,
       "max_height": null,
       "max_width": null,
       "min_height": null,
       "min_width": null,
       "object_fit": null,
       "object_position": null,
       "order": null,
       "overflow": null,
       "overflow_x": null,
       "overflow_y": null,
       "padding": null,
       "right": null,
       "top": null,
       "visibility": null,
       "width": null
      }
     },
     "ac3f78297b5049d4913f71731932fa5f": {
      "model_module": "@jupyter-widgets/base",
      "model_module_version": "1.2.0",
      "model_name": "LayoutModel",
      "state": {
       "_model_module": "@jupyter-widgets/base",
       "_model_module_version": "1.2.0",
       "_model_name": "LayoutModel",
       "_view_count": null,
       "_view_module": "@jupyter-widgets/base",
       "_view_module_version": "1.2.0",
       "_view_name": "LayoutView",
       "align_content": null,
       "align_items": null,
       "align_self": null,
       "border": null,
       "bottom": null,
       "display": null,
       "flex": null,
       "flex_flow": null,
       "grid_area": null,
       "grid_auto_columns": null,
       "grid_auto_flow": null,
       "grid_auto_rows": null,
       "grid_column": null,
       "grid_gap": null,
       "grid_row": null,
       "grid_template_areas": null,
       "grid_template_columns": null,
       "grid_template_rows": null,
       "height": null,
       "justify_content": null,
       "justify_items": null,
       "left": null,
       "margin": null,
       "max_height": null,
       "max_width": null,
       "min_height": null,
       "min_width": null,
       "object_fit": null,
       "object_position": null,
       "order": null,
       "overflow": null,
       "overflow_x": null,
       "overflow_y": null,
       "padding": null,
       "right": null,
       "top": null,
       "visibility": null,
       "width": null
      }
     },
     "ad4ddfd7ded9417a8e706a493c13a848": {
      "model_module": "@jupyter-widgets/controls",
      "model_module_version": "1.5.0",
      "model_name": "HTMLModel",
      "state": {
       "_dom_classes": [],
       "_model_module": "@jupyter-widgets/controls",
       "_model_module_version": "1.5.0",
       "_model_name": "HTMLModel",
       "_view_count": null,
       "_view_module": "@jupyter-widgets/controls",
       "_view_module_version": "1.5.0",
       "_view_name": "HTMLView",
       "description": "",
       "description_tooltip": null,
       "layout": "IPY_MODEL_1ecb8d51b7ec4f458aebb14f45bf605f",
       "placeholder": "​",
       "style": "IPY_MODEL_7061b6710c6c4a3b87778f692f1b1a7d",
       "value": " 23/23 [00:13&lt;00:00,  1.64ba/s]"
      }
     },
     "b069ab7717f440018fe9a2ced9935a86": {
      "model_module": "@jupyter-widgets/controls",
      "model_module_version": "1.5.0",
      "model_name": "ProgressStyleModel",
      "state": {
       "_model_module": "@jupyter-widgets/controls",
       "_model_module_version": "1.5.0",
       "_model_name": "ProgressStyleModel",
       "_view_count": null,
       "_view_module": "@jupyter-widgets/base",
       "_view_module_version": "1.2.0",
       "_view_name": "StyleView",
       "bar_color": null,
       "description_width": ""
      }
     },
     "bea373296420456abd979c14bfd00c7c": {
      "model_module": "@jupyter-widgets/base",
      "model_module_version": "1.2.0",
      "model_name": "LayoutModel",
      "state": {
       "_model_module": "@jupyter-widgets/base",
       "_model_module_version": "1.2.0",
       "_model_name": "LayoutModel",
       "_view_count": null,
       "_view_module": "@jupyter-widgets/base",
       "_view_module_version": "1.2.0",
       "_view_name": "LayoutView",
       "align_content": null,
       "align_items": null,
       "align_self": null,
       "border": null,
       "bottom": null,
       "display": null,
       "flex": null,
       "flex_flow": null,
       "grid_area": null,
       "grid_auto_columns": null,
       "grid_auto_flow": null,
       "grid_auto_rows": null,
       "grid_column": null,
       "grid_gap": null,
       "grid_row": null,
       "grid_template_areas": null,
       "grid_template_columns": null,
       "grid_template_rows": null,
       "height": null,
       "justify_content": null,
       "justify_items": null,
       "left": null,
       "margin": null,
       "max_height": null,
       "max_width": null,
       "min_height": null,
       "min_width": null,
       "object_fit": null,
       "object_position": null,
       "order": null,
       "overflow": null,
       "overflow_x": null,
       "overflow_y": null,
       "padding": null,
       "right": null,
       "top": null,
       "visibility": null,
       "width": null
      }
     },
     "c062c3d1b96f47e5883f889560e7f734": {
      "model_module": "@jupyter-widgets/base",
      "model_module_version": "1.2.0",
      "model_name": "LayoutModel",
      "state": {
       "_model_module": "@jupyter-widgets/base",
       "_model_module_version": "1.2.0",
       "_model_name": "LayoutModel",
       "_view_count": null,
       "_view_module": "@jupyter-widgets/base",
       "_view_module_version": "1.2.0",
       "_view_name": "LayoutView",
       "align_content": null,
       "align_items": null,
       "align_self": null,
       "border": null,
       "bottom": null,
       "display": null,
       "flex": null,
       "flex_flow": null,
       "grid_area": null,
       "grid_auto_columns": null,
       "grid_auto_flow": null,
       "grid_auto_rows": null,
       "grid_column": null,
       "grid_gap": null,
       "grid_row": null,
       "grid_template_areas": null,
       "grid_template_columns": null,
       "grid_template_rows": null,
       "height": null,
       "justify_content": null,
       "justify_items": null,
       "left": null,
       "margin": null,
       "max_height": null,
       "max_width": null,
       "min_height": null,
       "min_width": null,
       "object_fit": null,
       "object_position": null,
       "order": null,
       "overflow": null,
       "overflow_x": null,
       "overflow_y": null,
       "padding": null,
       "right": null,
       "top": null,
       "visibility": null,
       "width": null
      }
     },
     "d54d9eab69bf4ac386052d6b5d5de7a6": {
      "model_module": "@jupyter-widgets/controls",
      "model_module_version": "1.5.0",
      "model_name": "HBoxModel",
      "state": {
       "_dom_classes": [],
       "_model_module": "@jupyter-widgets/controls",
       "_model_module_version": "1.5.0",
       "_model_name": "HBoxModel",
       "_view_count": null,
       "_view_module": "@jupyter-widgets/controls",
       "_view_module_version": "1.5.0",
       "_view_name": "HBoxView",
       "box_style": "",
       "children": [
        "IPY_MODEL_a38958d8607c478e80e8917f87bcf846",
        "IPY_MODEL_8d9282b09a6840a5a4e856c58e42cf3c",
        "IPY_MODEL_1747db38fff347aaae7847a98939b277"
       ],
       "layout": "IPY_MODEL_2fd5199bed9c402383dcf1237c6fd629"
      }
     },
     "d5c1abfe42b94d428c94731b76b97072": {
      "model_module": "@jupyter-widgets/base",
      "model_module_version": "1.2.0",
      "model_name": "LayoutModel",
      "state": {
       "_model_module": "@jupyter-widgets/base",
       "_model_module_version": "1.2.0",
       "_model_name": "LayoutModel",
       "_view_count": null,
       "_view_module": "@jupyter-widgets/base",
       "_view_module_version": "1.2.0",
       "_view_name": "LayoutView",
       "align_content": null,
       "align_items": null,
       "align_self": null,
       "border": null,
       "bottom": null,
       "display": null,
       "flex": null,
       "flex_flow": null,
       "grid_area": null,
       "grid_auto_columns": null,
       "grid_auto_flow": null,
       "grid_auto_rows": null,
       "grid_column": null,
       "grid_gap": null,
       "grid_row": null,
       "grid_template_areas": null,
       "grid_template_columns": null,
       "grid_template_rows": null,
       "height": null,
       "justify_content": null,
       "justify_items": null,
       "left": null,
       "margin": null,
       "max_height": null,
       "max_width": null,
       "min_height": null,
       "min_width": null,
       "object_fit": null,
       "object_position": null,
       "order": null,
       "overflow": null,
       "overflow_x": null,
       "overflow_y": null,
       "padding": null,
       "right": null,
       "top": null,
       "visibility": null,
       "width": null
      }
     },
     "e989acb4e930427ca7a2d4f976aa150a": {
      "model_module": "@jupyter-widgets/controls",
      "model_module_version": "1.5.0",
      "model_name": "ProgressStyleModel",
      "state": {
       "_model_module": "@jupyter-widgets/controls",
       "_model_module_version": "1.5.0",
       "_model_name": "ProgressStyleModel",
       "_view_count": null,
       "_view_module": "@jupyter-widgets/base",
       "_view_module_version": "1.2.0",
       "_view_name": "StyleView",
       "bar_color": null,
       "description_width": ""
      }
     },
     "f4da482a63af4ba5bcd0f79e7fa7549d": {
      "model_module": "@jupyter-widgets/controls",
      "model_module_version": "1.5.0",
      "model_name": "DescriptionStyleModel",
      "state": {
       "_model_module": "@jupyter-widgets/controls",
       "_model_module_version": "1.5.0",
       "_model_name": "DescriptionStyleModel",
       "_view_count": null,
       "_view_module": "@jupyter-widgets/base",
       "_view_module_version": "1.2.0",
       "_view_name": "StyleView",
       "description_width": ""
      }
     }
    },
    "version_major": 2,
    "version_minor": 0
   }
  }
 },
 "nbformat": 4,
 "nbformat_minor": 5
}
